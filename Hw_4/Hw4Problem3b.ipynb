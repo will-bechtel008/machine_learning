{
  "nbformat": 4,
  "nbformat_minor": 0,
  "metadata": {
    "colab": {
      "name": "Hw4Problem3b.ipynb",
      "provenance": []
    },
    "kernelspec": {
      "name": "python3",
      "display_name": "Python 3"
    },
    "accelerator": "GPU"
  },
  "cells": [
    {
      "cell_type": "markdown",
      "metadata": {
        "id": "KSrgMJ5vKFzQ",
        "colab_type": "text"
      },
      "source": [
        "# Fine-tuning Xception "
      ]
    },
    {
      "cell_type": "markdown",
      "metadata": {
        "id": "TIW7bZaAK-Hf",
        "colab_type": "text"
      },
      "source": [
        "This is based on section 5.3 *Using a pretrained convnet* of the book *Deep learning with Python* by Francois Chollet. I have made several changes to the code. I use the data that is already provided by Google. I don't download the data from Kaggle as in the deep learning book."
      ]
    },
    {
      "cell_type": "markdown",
      "metadata": {
        "id": "nsBq__dVo2pj",
        "colab_type": "text"
      },
      "source": [
        "## Feature extraction"
      ]
    },
    {
      "cell_type": "markdown",
      "metadata": {
        "id": "0g6ETAM9o54M",
        "colab_type": "text"
      },
      "source": [
        "Feature extraction consists of using the representations learned by a previous network to extract interesting features from new samples. These features are then run through a new classifier, which is trained from scratch.\n",
        "\n",
        "We will use here the convolutional base of the VGG16 model to extract the features. We will feed these features to a densely connected classifier with dropout. We will fine-tune some layers."
      ]
    },
    {
      "cell_type": "markdown",
      "metadata": {
        "id": "BqIG8QHMLNOn",
        "colab_type": "text"
      },
      "source": [
        "## Download the data"
      ]
    },
    {
      "cell_type": "markdown",
      "metadata": {
        "id": "t3I1jd7cKV6_",
        "colab_type": "text"
      },
      "source": [
        "Download the example data, a zip. of 2,000 JPG pictures of cats and dogs and extract it locally in ```/tmp```.\n",
        "\n"
      ]
    },
    {
      "cell_type": "code",
      "metadata": {
        "id": "JWjprHEXJ5Qi",
        "colab_type": "code",
        "outputId": "f36dae21-63bc-4ccf-80b6-a68cf8c10f94",
        "colab": {
          "base_uri": "https://localhost:8080/",
          "height": 224
        }
      },
      "source": [
        "!wget --no-check-certificate \\\n",
        "    https://storage.googleapis.com/mledu-datasets/cats_and_dogs_filtered.zip \\\n",
        "    -O /tmp/cats_and_dogs_filtered.zip"
      ],
      "execution_count": 1,
      "outputs": [
        {
          "output_type": "stream",
          "text": [
            "--2020-04-21 22:17:41--  https://storage.googleapis.com/mledu-datasets/cats_and_dogs_filtered.zip\n",
            "Resolving storage.googleapis.com (storage.googleapis.com)... 74.125.143.128, 2a00:1450:4013:c00::80\n",
            "Connecting to storage.googleapis.com (storage.googleapis.com)|74.125.143.128|:443... connected.\n",
            "HTTP request sent, awaiting response... 200 OK\n",
            "Length: 68606236 (65M) [application/zip]\n",
            "Saving to: ‘/tmp/cats_and_dogs_filtered.zip’\n",
            "\n",
            "/tmp/cats_and_dogs_ 100%[===================>]  65.43M  90.2MB/s    in 0.7s    \n",
            "\n",
            "2020-04-21 22:17:41 (90.2 MB/s) - ‘/tmp/cats_and_dogs_filtered.zip’ saved [68606236/68606236]\n",
            "\n"
          ],
          "name": "stdout"
        }
      ]
    },
    {
      "cell_type": "code",
      "metadata": {
        "id": "WvoHtdA-K6Rw",
        "colab_type": "code",
        "colab": {}
      },
      "source": [
        "import os\n",
        "import zipfile\n",
        "\n",
        "local_zip = '/tmp/cats_and_dogs_filtered.zip'\n",
        "zip_ref = zipfile.ZipFile(local_zip, 'r')\n",
        "zip_ref.extractall('/tmp')\n",
        "zip_ref.close()"
      ],
      "execution_count": 0,
      "outputs": []
    },
    {
      "cell_type": "markdown",
      "metadata": {
        "id": "shZiOBnJMyy_",
        "colab_type": "text"
      },
      "source": [
        "Note that the data provided by Google does not have a test set."
      ]
    },
    {
      "cell_type": "code",
      "metadata": {
        "id": "dL8ikM89LlsH",
        "colab_type": "code",
        "colab": {}
      },
      "source": [
        "base_dir = '/tmp/cats_and_dogs_filtered'\n",
        "train_dir = os.path.join(base_dir, 'train')\n",
        "validation_dir = os.path.join(base_dir, 'validation')\n",
        "\n",
        "# Directory with our training cat pictures\n",
        "train_cats_dir = os.path.join(train_dir, 'cats')\n",
        "\n",
        "# Directory with our training dog pictures\n",
        "train_dogs_dir = os.path.join(train_dir, 'dogs')\n",
        "\n",
        "# Directory with our validation cat pictures\n",
        "validation_cats_dir = os.path.join(validation_dir, 'cats')\n",
        "\n",
        "# Directory with our validation dog pictures\n",
        "validation_dogs_dir = os.path.join(validation_dir, 'dogs')"
      ],
      "execution_count": 0,
      "outputs": []
    },
    {
      "cell_type": "markdown",
      "metadata": {
        "id": "inyP8bcdXnn-",
        "colab_type": "text"
      },
      "source": [
        "## Build network with VGG16 convolution base and custom densely connected layers"
      ]
    },
    {
      "cell_type": "markdown",
      "metadata": {
        "id": "kQ48W5T9rHWu",
        "colab_type": "text"
      },
      "source": [
        "### Load the convolutional base"
      ]
    },
    {
      "cell_type": "code",
      "metadata": {
        "id": "Y0FgtANCXm_H",
        "colab_type": "code",
        "outputId": "3c6af98b-46d2-46d8-cea4-73ee28ac12e2",
        "colab": {
          "base_uri": "https://localhost:8080/",
          "height": 88
        }
      },
      "source": [
        "from keras.applications import Xception\n",
        "\n",
        "conv_base = Xception(\n",
        "    weights='imagenet', \n",
        "    include_top=False, \n",
        "    input_shape=(150, 150, 3))"
      ],
      "execution_count": 4,
      "outputs": [
        {
          "output_type": "stream",
          "text": [
            "Using TensorFlow backend.\n"
          ],
          "name": "stderr"
        },
        {
          "output_type": "stream",
          "text": [
            "Downloading data from https://github.com/fchollet/deep-learning-models/releases/download/v0.4/xception_weights_tf_dim_ordering_tf_kernels_notop.h5\n",
            "83689472/83683744 [==============================] - 3s 0us/step\n"
          ],
          "name": "stdout"
        }
      ]
    },
    {
      "cell_type": "markdown",
      "metadata": {
        "id": "D6OBHOO9q1ou",
        "colab_type": "text"
      },
      "source": [
        "### Freeze the convolutional base"
      ]
    },
    {
      "cell_type": "code",
      "metadata": {
        "id": "UleRo4Dpq6Ld",
        "colab_type": "code",
        "colab": {}
      },
      "source": [
        "conv_base.trainable = False"
      ],
      "execution_count": 0,
      "outputs": []
    },
    {
      "cell_type": "markdown",
      "metadata": {
        "id": "Qfx6PqhPrb7Q",
        "colab_type": "text"
      },
      "source": [
        "### Concatenate the convolutional base and densely connected layers"
      ]
    },
    {
      "cell_type": "code",
      "metadata": {
        "id": "qUpmocDAO3xm",
        "colab_type": "code",
        "colab": {}
      },
      "source": [
        "from keras import layers\n",
        "from keras import models\n",
        "from keras import optimizers\n",
        "\n",
        "model = models.Sequential()\n",
        "model.add(conv_base)\n",
        "model.add(layers.Flatten())\n",
        "model.add(layers.Dense(256, activation='relu'))\n",
        "model.add(layers.Dense(256, activation='relu'))\n",
        "model.add(layers.Dense(256, activation='relu'))\n",
        "#model.add(layers.Dropout(0.1))\n",
        "model.add(layers.Dense(1, activation='sigmoid'))"
      ],
      "execution_count": 0,
      "outputs": []
    },
    {
      "cell_type": "code",
      "metadata": {
        "id": "Fh6gZSeAjF7c",
        "colab_type": "code",
        "outputId": "74374790-279d-46f6-bc44-fba0ee2c11f9",
        "colab": {
          "base_uri": "https://localhost:8080/",
          "height": 357
        }
      },
      "source": [
        "model.summary()"
      ],
      "execution_count": 7,
      "outputs": [
        {
          "output_type": "stream",
          "text": [
            "Model: \"sequential_1\"\n",
            "_________________________________________________________________\n",
            "Layer (type)                 Output Shape              Param #   \n",
            "=================================================================\n",
            "xception (Model)             (None, 5, 5, 2048)        20861480  \n",
            "_________________________________________________________________\n",
            "flatten_1 (Flatten)          (None, 51200)             0         \n",
            "_________________________________________________________________\n",
            "dense_1 (Dense)              (None, 256)               13107456  \n",
            "_________________________________________________________________\n",
            "dense_2 (Dense)              (None, 256)               65792     \n",
            "_________________________________________________________________\n",
            "dense_3 (Dense)              (None, 256)               65792     \n",
            "_________________________________________________________________\n",
            "dense_4 (Dense)              (None, 1)                 257       \n",
            "=================================================================\n",
            "Total params: 34,100,777\n",
            "Trainable params: 13,239,297\n",
            "Non-trainable params: 20,861,480\n",
            "_________________________________________________________________\n"
          ],
          "name": "stdout"
        }
      ]
    },
    {
      "cell_type": "markdown",
      "metadata": {
        "id": "eZjBiddhi5Qj",
        "colab_type": "text"
      },
      "source": [
        "## Train the model end to end with frozen convolutional base"
      ]
    },
    {
      "cell_type": "code",
      "metadata": {
        "id": "tfAQlC2Oi41L",
        "colab_type": "code",
        "outputId": "b9d3c2ec-7a94-4dd1-99fd-bbc600b2f1da",
        "colab": {
          "base_uri": "https://localhost:8080/",
          "height": 1000
        }
      },
      "source": [
        "from keras.preprocessing.image import ImageDataGenerator\n",
        "from keras import optimizers\n",
        "\n",
        "# data augmentation\n",
        "\n",
        "train_datagen = ImageDataGenerator(\n",
        "    rescale=1./255, \n",
        "    rotation_range=40,\n",
        "    width_shift_range=0.2,\n",
        "    height_shift_range=0.2,\n",
        "    shear_range=0.2,\n",
        "    zoom_range=0.2,\n",
        "    horizontal_flip=True,\n",
        "    fill_mode='nearest'\n",
        ")\n",
        "\n",
        "train_generator = train_datagen.flow_from_directory(\n",
        "    train_dir,\n",
        "    target_size=(150, 150),\n",
        "    batch_size=20,\n",
        "    class_mode='binary')\n",
        "\n",
        "validation_datagen = ImageDataGenerator(rescale=1./255)\n",
        "\n",
        "validation_generator = validation_datagen.flow_from_directory(\n",
        "    validation_dir,\n",
        "    target_size=(150, 150),\n",
        "    batch_size=20,\n",
        "    class_mode='binary')\n",
        "\n",
        "# compile model\n",
        "\n",
        "model.compile(\n",
        "    loss='binary_crossentropy', \n",
        "    optimizer=optimizers.RMSprop(lr=2e-5), \n",
        "    metrics=['acc'])\n",
        "\n",
        "# train\n",
        "\n",
        "history = model.fit_generator(\n",
        "    train_generator,\n",
        "    steps_per_epoch=100,\n",
        "    epochs=30,\n",
        "    validation_data=validation_generator,\n",
        "    validation_steps=50\n",
        ")"
      ],
      "execution_count": 8,
      "outputs": [
        {
          "output_type": "stream",
          "text": [
            "Found 2000 images belonging to 2 classes.\n",
            "Found 1000 images belonging to 2 classes.\n",
            "Epoch 1/30\n",
            "100/100 [==============================] - 28s 279ms/step - loss: 0.4677 - acc: 0.7740 - val_loss: 0.0665 - val_acc: 0.9660\n",
            "Epoch 2/30\n",
            "100/100 [==============================] - 18s 180ms/step - loss: 0.3645 - acc: 0.8310 - val_loss: 0.3531 - val_acc: 0.9650\n",
            "Epoch 3/30\n",
            "100/100 [==============================] - 18s 179ms/step - loss: 0.3580 - acc: 0.8400 - val_loss: 0.4895 - val_acc: 0.9640\n",
            "Epoch 4/30\n",
            "100/100 [==============================] - 18s 181ms/step - loss: 0.3566 - acc: 0.8415 - val_loss: 8.0791e-04 - val_acc: 0.9670\n",
            "Epoch 5/30\n",
            "100/100 [==============================] - 18s 181ms/step - loss: 0.3309 - acc: 0.8445 - val_loss: 0.2369 - val_acc: 0.9690\n",
            "Epoch 6/30\n",
            "100/100 [==============================] - 18s 180ms/step - loss: 0.3083 - acc: 0.8665 - val_loss: 3.6946e-04 - val_acc: 0.9680\n",
            "Epoch 7/30\n",
            "100/100 [==============================] - 18s 178ms/step - loss: 0.3102 - acc: 0.8685 - val_loss: 0.1118 - val_acc: 0.9680\n",
            "Epoch 8/30\n",
            "100/100 [==============================] - 18s 181ms/step - loss: 0.3272 - acc: 0.8520 - val_loss: 0.0012 - val_acc: 0.9670\n",
            "Epoch 9/30\n",
            "100/100 [==============================] - 18s 181ms/step - loss: 0.3160 - acc: 0.8705 - val_loss: 0.0037 - val_acc: 0.9730\n",
            "Epoch 10/30\n",
            "100/100 [==============================] - 18s 180ms/step - loss: 0.3059 - acc: 0.8680 - val_loss: 0.0039 - val_acc: 0.9660\n",
            "Epoch 11/30\n",
            "100/100 [==============================] - 18s 181ms/step - loss: 0.2969 - acc: 0.8635 - val_loss: 0.0089 - val_acc: 0.9720\n",
            "Epoch 12/30\n",
            "100/100 [==============================] - 18s 179ms/step - loss: 0.3031 - acc: 0.8640 - val_loss: 0.0325 - val_acc: 0.9670\n",
            "Epoch 13/30\n",
            "100/100 [==============================] - 18s 181ms/step - loss: 0.2896 - acc: 0.8715 - val_loss: 0.7369 - val_acc: 0.9480\n",
            "Epoch 14/30\n",
            "100/100 [==============================] - 18s 180ms/step - loss: 0.2898 - acc: 0.8700 - val_loss: 0.5667 - val_acc: 0.9730\n",
            "Epoch 15/30\n",
            "100/100 [==============================] - 18s 181ms/step - loss: 0.3004 - acc: 0.8650 - val_loss: 0.2314 - val_acc: 0.9690\n",
            "Epoch 16/30\n",
            "100/100 [==============================] - 18s 180ms/step - loss: 0.3063 - acc: 0.8590 - val_loss: 0.7223 - val_acc: 0.9660\n",
            "Epoch 17/30\n",
            "100/100 [==============================] - 18s 182ms/step - loss: 0.3077 - acc: 0.8630 - val_loss: 5.3280e-04 - val_acc: 0.9700\n",
            "Epoch 18/30\n",
            "100/100 [==============================] - 18s 181ms/step - loss: 0.2651 - acc: 0.8770 - val_loss: 0.2488 - val_acc: 0.9590\n",
            "Epoch 19/30\n",
            "100/100 [==============================] - 18s 180ms/step - loss: 0.2951 - acc: 0.8625 - val_loss: 0.0078 - val_acc: 0.9690\n",
            "Epoch 20/30\n",
            "100/100 [==============================] - 18s 179ms/step - loss: 0.2656 - acc: 0.8825 - val_loss: 0.0099 - val_acc: 0.9700\n",
            "Epoch 21/30\n",
            "100/100 [==============================] - 18s 180ms/step - loss: 0.2863 - acc: 0.8780 - val_loss: 0.1726 - val_acc: 0.9620\n",
            "Epoch 22/30\n",
            "100/100 [==============================] - 18s 181ms/step - loss: 0.2831 - acc: 0.8840 - val_loss: 0.4274 - val_acc: 0.9680\n",
            "Epoch 23/30\n",
            "100/100 [==============================] - 18s 179ms/step - loss: 0.2772 - acc: 0.8840 - val_loss: 0.0019 - val_acc: 0.9680\n",
            "Epoch 24/30\n",
            "100/100 [==============================] - 18s 177ms/step - loss: 0.2680 - acc: 0.8835 - val_loss: 2.1771e-04 - val_acc: 0.9690\n",
            "Epoch 25/30\n",
            "100/100 [==============================] - 18s 179ms/step - loss: 0.2673 - acc: 0.8915 - val_loss: 0.1112 - val_acc: 0.9680\n",
            "Epoch 26/30\n",
            "100/100 [==============================] - 18s 179ms/step - loss: 0.2693 - acc: 0.8880 - val_loss: 0.0037 - val_acc: 0.9720\n",
            "Epoch 27/30\n",
            "100/100 [==============================] - 18s 179ms/step - loss: 0.2811 - acc: 0.8825 - val_loss: 5.7336e-04 - val_acc: 0.9650\n",
            "Epoch 28/30\n",
            "100/100 [==============================] - 18s 179ms/step - loss: 0.2694 - acc: 0.8830 - val_loss: 0.0790 - val_acc: 0.9680\n",
            "Epoch 29/30\n",
            "100/100 [==============================] - 18s 180ms/step - loss: 0.2664 - acc: 0.8855 - val_loss: 2.5077e-06 - val_acc: 0.9680\n",
            "Epoch 30/30\n",
            "100/100 [==============================] - 18s 181ms/step - loss: 0.2571 - acc: 0.8845 - val_loss: 0.5670 - val_acc: 0.9650\n"
          ],
          "name": "stdout"
        }
      ]
    },
    {
      "cell_type": "markdown",
      "metadata": {
        "id": "xqRc_vHKc92U",
        "colab_type": "text"
      },
      "source": [
        "## Display curves of loss and accuracy during training"
      ]
    },
    {
      "cell_type": "code",
      "metadata": {
        "id": "ybWwdzz9bwuQ",
        "colab_type": "code",
        "outputId": "ddf8fc51-fb47-405d-fde2-d821f40ff943",
        "colab": {
          "base_uri": "https://localhost:8080/",
          "height": 545
        }
      },
      "source": [
        "%matplotlib inline\n",
        "\n",
        "import matplotlib.pyplot as plt\n",
        "\n",
        "acc = history.history['acc']\n",
        "val_acc = history.history['val_acc']\n",
        "\n",
        "loss = history.history['loss']\n",
        "val_loss = history.history['val_loss']\n",
        "\n",
        "epochs = range(1, len(acc) + 1)\n",
        "\n",
        "# training and validation accuracy\n",
        "\n",
        "plt.plot(epochs, acc, 'bo', label='training acc')\n",
        "plt.plot(epochs, val_acc, 'b', label='validation acc')\n",
        "plt.title('training and validation accuracy')\n",
        "plt.legend()\n",
        "\n",
        "plt.figure()\n",
        "\n",
        "# training and validation loss\n",
        "\n",
        "plt.plot(epochs, loss, 'bo', label='training loss')\n",
        "plt.plot(epochs, val_loss, 'b', label='validation loss')\n",
        "plt.title('training and validation loss')\n",
        "plt.legend()\n",
        "\n",
        "plt.show()"
      ],
      "execution_count": 9,
      "outputs": [
        {
          "output_type": "display_data",
          "data": {
            "image/png": "[encoded data removed]",
            "text/plain": [
              "<Figure size 432x288 with 1 Axes>"
            ]
          },
          "metadata": {
            "tags": [],
            "needs_background": "light"
          }
        },
        {
          "output_type": "display_data",
          "data": {
            "image/png": "[encoded data removed]",
            "text/plain": [
              "<Figure size 432x288 with 1 Axes>"
            ]
          },
          "metadata": {
            "tags": [],
            "needs_background": "light"
          }
        }
      ]
    },
    {
      "cell_type": "markdown",
      "metadata": {
        "id": "lOWsxpey8lN0",
        "colab_type": "text"
      },
      "source": [
        "## Fine-tuning"
      ]
    },
    {
      "cell_type": "code",
      "metadata": {
        "id": "PwkVMx8N8qMw",
        "colab_type": "code",
        "colab": {}
      },
      "source": [
        "conv_base.trainable = True\n",
        "\n",
        "set_trainable = False\n",
        "for layer in conv_base.layers:\n",
        "  if layer.name == 'block5_conv1':\n",
        "    set_trainable = True\n",
        "  if set_trainable:\n",
        "    layer.trainable = True\n",
        "  else:\n",
        "    layer.trainable = False"
      ],
      "execution_count": 0,
      "outputs": []
    },
    {
      "cell_type": "code",
      "metadata": {
        "id": "DyN-J7rs9cvo",
        "colab_type": "code",
        "outputId": "fc2f9ec1-6868-4647-eb1a-95991d20a474",
        "colab": {
          "base_uri": "https://localhost:8080/",
          "height": 1000
        }
      },
      "source": [
        "# compile model\n",
        "\n",
        "model.compile(\n",
        "    loss='binary_crossentropy',\n",
        "    #\n",
        "    # choose a smaller learning rate\n",
        "    #\n",
        "    optimizer=optimizers.RMSprop(lr=1e-5), \n",
        "    metrics=['acc'])\n",
        "\n",
        "# train\n",
        "\n",
        "history = model.fit_generator(\n",
        "    train_generator,\n",
        "    steps_per_epoch=100,\n",
        "    epochs=100,\n",
        "    validation_data=validation_generator,\n",
        "    validation_steps=50)"
      ],
      "execution_count": 11,
      "outputs": [
        {
          "output_type": "stream",
          "text": [
            "Epoch 1/100\n",
            "100/100 [==============================] - 22s 216ms/step - loss: 0.2438 - acc: 0.8935 - val_loss: 0.5881 - val_acc: 0.9480\n",
            "Epoch 2/100\n",
            "100/100 [==============================] - 18s 181ms/step - loss: 0.2421 - acc: 0.8930 - val_loss: 0.0614 - val_acc: 0.9250\n",
            "Epoch 3/100\n",
            "100/100 [==============================] - 18s 185ms/step - loss: 0.2449 - acc: 0.8975 - val_loss: 0.2803 - val_acc: 0.9270\n",
            "Epoch 4/100\n",
            "100/100 [==============================] - 18s 183ms/step - loss: 0.2515 - acc: 0.8940 - val_loss: 0.2373 - val_acc: 0.9380\n",
            "Epoch 5/100\n",
            "100/100 [==============================] - 18s 182ms/step - loss: 0.2687 - acc: 0.8780 - val_loss: 0.0173 - val_acc: 0.9210\n",
            "Epoch 6/100\n",
            "100/100 [==============================] - 19s 185ms/step - loss: 0.2643 - acc: 0.8860 - val_loss: 0.1416 - val_acc: 0.9300\n",
            "Epoch 7/100\n",
            "100/100 [==============================] - 18s 185ms/step - loss: 0.2460 - acc: 0.8965 - val_loss: 0.1315 - val_acc: 0.9260\n",
            "Epoch 8/100\n",
            "100/100 [==============================] - 18s 184ms/step - loss: 0.2414 - acc: 0.9015 - val_loss: 0.4888 - val_acc: 0.9350\n",
            "Epoch 9/100\n",
            "100/100 [==============================] - 18s 181ms/step - loss: 0.2307 - acc: 0.8945 - val_loss: 0.1094 - val_acc: 0.9110\n",
            "Epoch 10/100\n",
            "100/100 [==============================] - 18s 181ms/step - loss: 0.2414 - acc: 0.8975 - val_loss: 0.1384 - val_acc: 0.9180\n",
            "Epoch 11/100\n",
            "100/100 [==============================] - 18s 181ms/step - loss: 0.2236 - acc: 0.9090 - val_loss: 0.0170 - val_acc: 0.9240\n",
            "Epoch 12/100\n",
            "100/100 [==============================] - 18s 182ms/step - loss: 0.2392 - acc: 0.9010 - val_loss: 0.0269 - val_acc: 0.9280\n",
            "Epoch 13/100\n",
            "100/100 [==============================] - 18s 182ms/step - loss: 0.2441 - acc: 0.9075 - val_loss: 0.1060 - val_acc: 0.9220\n",
            "Epoch 14/100\n",
            "100/100 [==============================] - 18s 181ms/step - loss: 0.2444 - acc: 0.9035 - val_loss: 0.0903 - val_acc: 0.9300\n",
            "Epoch 15/100\n",
            "100/100 [==============================] - 18s 181ms/step - loss: 0.2419 - acc: 0.8995 - val_loss: 0.2722 - val_acc: 0.9390\n",
            "Epoch 16/100\n",
            "100/100 [==============================] - 18s 183ms/step - loss: 0.2365 - acc: 0.9025 - val_loss: 0.2209 - val_acc: 0.9290\n",
            "Epoch 17/100\n",
            "100/100 [==============================] - 18s 183ms/step - loss: 0.2280 - acc: 0.9035 - val_loss: 0.0575 - val_acc: 0.9380\n",
            "Epoch 18/100\n",
            "100/100 [==============================] - 18s 183ms/step - loss: 0.2273 - acc: 0.9020 - val_loss: 0.3241 - val_acc: 0.9170\n",
            "Epoch 19/100\n",
            "100/100 [==============================] - 18s 181ms/step - loss: 0.2246 - acc: 0.9030 - val_loss: 0.1770 - val_acc: 0.9390\n",
            "Epoch 20/100\n",
            "100/100 [==============================] - 18s 182ms/step - loss: 0.2321 - acc: 0.9060 - val_loss: 0.0543 - val_acc: 0.9280\n",
            "Epoch 21/100\n",
            "100/100 [==============================] - 18s 183ms/step - loss: 0.2329 - acc: 0.9035 - val_loss: 0.1041 - val_acc: 0.9370\n",
            "Epoch 22/100\n",
            "100/100 [==============================] - 18s 182ms/step - loss: 0.2363 - acc: 0.8945 - val_loss: 0.1191 - val_acc: 0.9260\n",
            "Epoch 23/100\n",
            "100/100 [==============================] - 18s 184ms/step - loss: 0.2260 - acc: 0.8970 - val_loss: 0.0744 - val_acc: 0.9200\n",
            "Epoch 24/100\n",
            "100/100 [==============================] - 18s 182ms/step - loss: 0.2166 - acc: 0.9100 - val_loss: 0.2343 - val_acc: 0.9400\n",
            "Epoch 25/100\n",
            "100/100 [==============================] - 18s 182ms/step - loss: 0.2247 - acc: 0.9030 - val_loss: 0.0311 - val_acc: 0.9390\n",
            "Epoch 26/100\n",
            "100/100 [==============================] - 18s 182ms/step - loss: 0.2402 - acc: 0.9040 - val_loss: 0.3380 - val_acc: 0.9220\n",
            "Epoch 27/100\n",
            "100/100 [==============================] - 18s 181ms/step - loss: 0.2163 - acc: 0.9105 - val_loss: 0.0542 - val_acc: 0.9350\n",
            "Epoch 28/100\n",
            "100/100 [==============================] - 18s 182ms/step - loss: 0.1996 - acc: 0.9230 - val_loss: 0.1766 - val_acc: 0.9290\n",
            "Epoch 29/100\n",
            "100/100 [==============================] - 18s 182ms/step - loss: 0.2167 - acc: 0.9100 - val_loss: 0.0883 - val_acc: 0.9410\n",
            "Epoch 30/100\n",
            "100/100 [==============================] - 18s 182ms/step - loss: 0.2387 - acc: 0.8965 - val_loss: 0.4733 - val_acc: 0.9160\n",
            "Epoch 31/100\n",
            "100/100 [==============================] - 18s 182ms/step - loss: 0.2265 - acc: 0.9070 - val_loss: 0.3522 - val_acc: 0.9380\n",
            "Epoch 32/100\n",
            "100/100 [==============================] - 18s 182ms/step - loss: 0.2356 - acc: 0.8965 - val_loss: 0.1431 - val_acc: 0.9360\n",
            "Epoch 33/100\n",
            "100/100 [==============================] - 18s 181ms/step - loss: 0.2314 - acc: 0.9065 - val_loss: 0.0365 - val_acc: 0.9370\n",
            "Epoch 34/100\n",
            "100/100 [==============================] - 18s 183ms/step - loss: 0.2199 - acc: 0.9075 - val_loss: 0.1498 - val_acc: 0.9340\n",
            "Epoch 35/100\n",
            "100/100 [==============================] - 18s 181ms/step - loss: 0.2206 - acc: 0.9040 - val_loss: 0.3061 - val_acc: 0.9340\n",
            "Epoch 36/100\n",
            "100/100 [==============================] - 18s 182ms/step - loss: 0.2453 - acc: 0.8960 - val_loss: 0.2059 - val_acc: 0.9380\n",
            "Epoch 37/100\n",
            "100/100 [==============================] - 18s 180ms/step - loss: 0.2240 - acc: 0.9075 - val_loss: 0.3225 - val_acc: 0.9200\n",
            "Epoch 38/100\n",
            "100/100 [==============================] - 18s 182ms/step - loss: 0.2334 - acc: 0.9045 - val_loss: 0.2081 - val_acc: 0.9330\n",
            "Epoch 39/100\n",
            "100/100 [==============================] - 18s 183ms/step - loss: 0.2192 - acc: 0.9080 - val_loss: 0.2274 - val_acc: 0.9330\n",
            "Epoch 40/100\n",
            "100/100 [==============================] - 18s 185ms/step - loss: 0.2278 - acc: 0.9095 - val_loss: 0.0554 - val_acc: 0.9250\n",
            "Epoch 41/100\n",
            "100/100 [==============================] - 18s 182ms/step - loss: 0.1995 - acc: 0.9155 - val_loss: 0.1571 - val_acc: 0.9340\n",
            "Epoch 42/100\n",
            "100/100 [==============================] - 18s 181ms/step - loss: 0.2244 - acc: 0.9165 - val_loss: 0.0620 - val_acc: 0.9370\n",
            "Epoch 43/100\n",
            "100/100 [==============================] - 18s 182ms/step - loss: 0.2133 - acc: 0.9195 - val_loss: 0.2001 - val_acc: 0.9300\n",
            "Epoch 44/100\n",
            "100/100 [==============================] - 18s 179ms/step - loss: 0.2167 - acc: 0.9140 - val_loss: 0.5350 - val_acc: 0.9340\n",
            "Epoch 45/100\n",
            "100/100 [==============================] - 18s 179ms/step - loss: 0.2231 - acc: 0.9060 - val_loss: 0.1289 - val_acc: 0.9340\n",
            "Epoch 46/100\n",
            "100/100 [==============================] - 18s 178ms/step - loss: 0.2040 - acc: 0.9115 - val_loss: 0.0888 - val_acc: 0.9410\n",
            "Epoch 47/100\n",
            "100/100 [==============================] - 18s 178ms/step - loss: 0.2157 - acc: 0.9100 - val_loss: 0.4156 - val_acc: 0.9310\n",
            "Epoch 48/100\n",
            "100/100 [==============================] - 18s 178ms/step - loss: 0.2110 - acc: 0.9225 - val_loss: 0.0797 - val_acc: 0.9270\n",
            "Epoch 49/100\n",
            "100/100 [==============================] - 18s 178ms/step - loss: 0.2212 - acc: 0.9000 - val_loss: 0.5119 - val_acc: 0.9280\n",
            "Epoch 50/100\n",
            "100/100 [==============================] - 18s 176ms/step - loss: 0.2099 - acc: 0.9130 - val_loss: 0.1664 - val_acc: 0.9330\n",
            "Epoch 51/100\n",
            "100/100 [==============================] - 18s 179ms/step - loss: 0.2064 - acc: 0.9130 - val_loss: 0.0957 - val_acc: 0.9380\n",
            "Epoch 52/100\n",
            "100/100 [==============================] - 18s 179ms/step - loss: 0.2141 - acc: 0.9190 - val_loss: 0.0209 - val_acc: 0.9280\n",
            "Epoch 53/100\n",
            "100/100 [==============================] - 18s 179ms/step - loss: 0.1929 - acc: 0.9265 - val_loss: 0.1622 - val_acc: 0.9350\n",
            "Epoch 54/100\n",
            "100/100 [==============================] - 18s 178ms/step - loss: 0.2039 - acc: 0.9175 - val_loss: 0.1461 - val_acc: 0.9300\n",
            "Epoch 55/100\n",
            "100/100 [==============================] - 18s 179ms/step - loss: 0.2040 - acc: 0.9195 - val_loss: 0.2569 - val_acc: 0.9310\n",
            "Epoch 56/100\n",
            "100/100 [==============================] - 18s 180ms/step - loss: 0.2199 - acc: 0.9155 - val_loss: 0.1507 - val_acc: 0.9430\n",
            "Epoch 57/100\n",
            "100/100 [==============================] - 18s 182ms/step - loss: 0.2028 - acc: 0.9185 - val_loss: 0.0496 - val_acc: 0.9330\n",
            "Epoch 58/100\n",
            "100/100 [==============================] - 18s 183ms/step - loss: 0.1891 - acc: 0.9240 - val_loss: 0.1730 - val_acc: 0.9100\n",
            "Epoch 59/100\n",
            "100/100 [==============================] - 18s 181ms/step - loss: 0.2126 - acc: 0.9125 - val_loss: 0.3067 - val_acc: 0.9400\n",
            "Epoch 60/100\n",
            "100/100 [==============================] - 18s 181ms/step - loss: 0.1990 - acc: 0.9220 - val_loss: 0.0330 - val_acc: 0.9420\n",
            "Epoch 61/100\n",
            "100/100 [==============================] - 18s 183ms/step - loss: 0.1964 - acc: 0.9210 - val_loss: 0.0335 - val_acc: 0.9330\n",
            "Epoch 62/100\n",
            "100/100 [==============================] - 18s 181ms/step - loss: 0.2061 - acc: 0.9150 - val_loss: 0.1414 - val_acc: 0.8980\n",
            "Epoch 63/100\n",
            "100/100 [==============================] - 18s 181ms/step - loss: 0.2118 - acc: 0.9045 - val_loss: 0.3178 - val_acc: 0.9360\n",
            "Epoch 64/100\n",
            "100/100 [==============================] - 18s 180ms/step - loss: 0.1877 - acc: 0.9205 - val_loss: 0.1471 - val_acc: 0.9330\n",
            "Epoch 65/100\n",
            "100/100 [==============================] - 18s 182ms/step - loss: 0.2148 - acc: 0.9130 - val_loss: 0.1349 - val_acc: 0.9340\n",
            "Epoch 66/100\n",
            "100/100 [==============================] - 18s 182ms/step - loss: 0.2122 - acc: 0.9185 - val_loss: 0.0648 - val_acc: 0.9380\n",
            "Epoch 67/100\n",
            "100/100 [==============================] - 18s 180ms/step - loss: 0.2158 - acc: 0.9150 - val_loss: 0.1834 - val_acc: 0.9350\n",
            "Epoch 68/100\n",
            "100/100 [==============================] - 18s 181ms/step - loss: 0.1956 - acc: 0.9210 - val_loss: 0.1148 - val_acc: 0.9270\n",
            "Epoch 69/100\n",
            "100/100 [==============================] - 18s 182ms/step - loss: 0.1866 - acc: 0.9225 - val_loss: 0.4149 - val_acc: 0.9390\n",
            "Epoch 70/100\n",
            "100/100 [==============================] - 18s 181ms/step - loss: 0.2058 - acc: 0.9180 - val_loss: 0.0035 - val_acc: 0.9030\n",
            "Epoch 71/100\n",
            "100/100 [==============================] - 18s 180ms/step - loss: 0.1914 - acc: 0.9250 - val_loss: 0.3441 - val_acc: 0.9340\n",
            "Epoch 72/100\n",
            "100/100 [==============================] - 18s 179ms/step - loss: 0.1989 - acc: 0.9160 - val_loss: 0.4388 - val_acc: 0.9380\n",
            "Epoch 73/100\n",
            "100/100 [==============================] - 18s 181ms/step - loss: 0.1916 - acc: 0.9200 - val_loss: 0.0393 - val_acc: 0.9340\n",
            "Epoch 74/100\n",
            "100/100 [==============================] - 18s 183ms/step - loss: 0.1956 - acc: 0.9210 - val_loss: 0.3934 - val_acc: 0.9280\n",
            "Epoch 75/100\n",
            "100/100 [==============================] - 18s 185ms/step - loss: 0.1965 - acc: 0.9205 - val_loss: 0.0786 - val_acc: 0.9300\n",
            "Epoch 76/100\n",
            "100/100 [==============================] - 18s 182ms/step - loss: 0.1871 - acc: 0.9315 - val_loss: 0.2827 - val_acc: 0.9350\n",
            "Epoch 77/100\n",
            "100/100 [==============================] - 18s 182ms/step - loss: 0.1966 - acc: 0.9235 - val_loss: 0.1691 - val_acc: 0.9330\n",
            "Epoch 78/100\n",
            "100/100 [==============================] - 18s 181ms/step - loss: 0.1997 - acc: 0.9120 - val_loss: 0.3171 - val_acc: 0.9200\n",
            "Epoch 79/100\n",
            "100/100 [==============================] - 18s 183ms/step - loss: 0.1896 - acc: 0.9220 - val_loss: 0.1603 - val_acc: 0.9290\n",
            "Epoch 80/100\n",
            "100/100 [==============================] - 18s 181ms/step - loss: 0.2077 - acc: 0.9175 - val_loss: 0.0994 - val_acc: 0.9320\n",
            "Epoch 81/100\n",
            "100/100 [==============================] - 18s 180ms/step - loss: 0.1827 - acc: 0.9310 - val_loss: 0.0810 - val_acc: 0.9160\n",
            "Epoch 82/100\n",
            "100/100 [==============================] - 18s 181ms/step - loss: 0.1944 - acc: 0.9260 - val_loss: 0.2604 - val_acc: 0.9310\n",
            "Epoch 83/100\n",
            "100/100 [==============================] - 18s 183ms/step - loss: 0.1910 - acc: 0.9205 - val_loss: 0.4181 - val_acc: 0.9280\n",
            "Epoch 84/100\n",
            "100/100 [==============================] - 18s 180ms/step - loss: 0.2129 - acc: 0.9200 - val_loss: 0.2060 - val_acc: 0.9250\n",
            "Epoch 85/100\n",
            "100/100 [==============================] - 18s 181ms/step - loss: 0.1866 - acc: 0.9235 - val_loss: 0.1391 - val_acc: 0.9330\n",
            "Epoch 86/100\n",
            "100/100 [==============================] - 18s 181ms/step - loss: 0.1857 - acc: 0.9285 - val_loss: 0.3308 - val_acc: 0.9340\n",
            "Epoch 87/100\n",
            "100/100 [==============================] - 18s 182ms/step - loss: 0.1990 - acc: 0.9275 - val_loss: 0.3572 - val_acc: 0.9300\n",
            "Epoch 88/100\n",
            "100/100 [==============================] - 18s 181ms/step - loss: 0.1786 - acc: 0.9205 - val_loss: 0.0239 - val_acc: 0.9270\n",
            "Epoch 89/100\n",
            "100/100 [==============================] - 18s 180ms/step - loss: 0.2055 - acc: 0.9235 - val_loss: 0.5055 - val_acc: 0.9300\n",
            "Epoch 90/100\n",
            "100/100 [==============================] - 18s 180ms/step - loss: 0.1977 - acc: 0.9260 - val_loss: 0.3969 - val_acc: 0.9180\n",
            "Epoch 91/100\n",
            "100/100 [==============================] - 18s 181ms/step - loss: 0.1927 - acc: 0.9155 - val_loss: 0.1654 - val_acc: 0.9330\n",
            "Epoch 92/100\n",
            "100/100 [==============================] - 18s 184ms/step - loss: 0.2056 - acc: 0.9155 - val_loss: 0.1309 - val_acc: 0.9330\n",
            "Epoch 93/100\n",
            "100/100 [==============================] - 18s 181ms/step - loss: 0.1930 - acc: 0.9215 - val_loss: 0.1426 - val_acc: 0.9300\n",
            "Epoch 94/100\n",
            "100/100 [==============================] - 18s 181ms/step - loss: 0.1708 - acc: 0.9320 - val_loss: 0.0415 - val_acc: 0.9400\n",
            "Epoch 95/100\n",
            "100/100 [==============================] - 18s 181ms/step - loss: 0.1848 - acc: 0.9225 - val_loss: 0.0357 - val_acc: 0.9390\n",
            "Epoch 96/100\n",
            "100/100 [==============================] - 18s 182ms/step - loss: 0.2055 - acc: 0.9140 - val_loss: 0.0204 - val_acc: 0.9320\n",
            "Epoch 97/100\n",
            "100/100 [==============================] - 18s 181ms/step - loss: 0.1852 - acc: 0.9240 - val_loss: 0.0372 - val_acc: 0.9380\n",
            "Epoch 98/100\n",
            "100/100 [==============================] - 18s 181ms/step - loss: 0.1797 - acc: 0.9320 - val_loss: 0.9238 - val_acc: 0.9320\n",
            "Epoch 99/100\n",
            "100/100 [==============================] - 18s 182ms/step - loss: 0.1724 - acc: 0.9300 - val_loss: 0.0631 - val_acc: 0.9370\n",
            "Epoch 100/100\n",
            "100/100 [==============================] - 18s 181ms/step - loss: 0.2076 - acc: 0.9205 - val_loss: 0.4210 - val_acc: 0.9300\n"
          ],
          "name": "stdout"
        }
      ]
    },
    {
      "cell_type": "markdown",
      "metadata": {
        "id": "eVBQgh5M-Rtz",
        "colab_type": "text"
      },
      "source": [
        "## Display learning curves during fine-tuning"
      ]
    },
    {
      "cell_type": "code",
      "metadata": {
        "id": "mbkIw7Ie-NP4",
        "colab_type": "code",
        "outputId": "22624961-f729-466c-d603-6b7bcc56e320",
        "colab": {
          "base_uri": "https://localhost:8080/",
          "height": 545
        }
      },
      "source": [
        "%matplotlib inline\n",
        "\n",
        "import matplotlib.pyplot as plt\n",
        "\n",
        "acc = history.history['acc']\n",
        "val_acc = history.history['val_acc']\n",
        "\n",
        "loss = history.history['loss']\n",
        "val_loss = history.history['val_loss']\n",
        "\n",
        "epochs = range(1, len(acc) + 1)\n",
        "\n",
        "# training and validation accuracy\n",
        "\n",
        "plt.plot(epochs, acc, 'bo', label='training acc')\n",
        "plt.plot(epochs, val_acc, 'b', label='validation acc')\n",
        "plt.title('training and validation accuracy')\n",
        "plt.legend()\n",
        "\n",
        "plt.figure()\n",
        "\n",
        "# training and validation loss\n",
        "\n",
        "plt.plot(epochs, loss, 'bo', label='training loss')\n",
        "plt.plot(epochs, val_loss, 'b', label='validation loss')\n",
        "plt.title('training and validation loss')\n",
        "plt.legend()\n",
        "\n",
        "plt.show()"
      ],
      "execution_count": 12,
      "outputs": [
        {
          "output_type": "display_data",
          "data": {
            "image/png": "[encoded data removed]",
            "text/plain": [
              "<Figure size 432x288 with 1 Axes>"
            ]
          },
          "metadata": {
            "tags": [],
            "needs_background": "light"
          }
        },
        {
          "output_type": "display_data",
          "data": {
            "image/png": "[encoded data removed]",
            "text/plain": [
              "<Figure size 432x288 with 1 Axes>"
            ]
          },
          "metadata": {
            "tags": [],
            "needs_background": "light"
          }
        }
      ]
    },
    {
      "cell_type": "markdown",
      "metadata": {
        "id": "obQi6N4ZShdi",
        "colab_type": "text"
      },
      "source": [
        "This looks like overfitting. I should try  adding dropout for the densely connected layer."
      ]
    },
    {
      "cell_type": "markdown",
      "metadata": {
        "id": "he3Nw6TOJwjx",
        "colab_type": "text"
      },
      "source": [
        "## Print out validation loss and accuracy"
      ]
    },
    {
      "cell_type": "code",
      "metadata": {
        "id": "SVQtrk7uJdhl",
        "colab_type": "code",
        "colab": {}
      },
      "source": [
        "val_loss, val_acc = model.evaluate_generator(validation_generator, steps=50)"
      ],
      "execution_count": 0,
      "outputs": []
    },
    {
      "cell_type": "code",
      "metadata": {
        "id": "HpdddLi1SUMe",
        "colab_type": "code",
        "outputId": "39ab704b-a1dc-4658-bb10-8d1b502266f0",
        "colab": {
          "base_uri": "https://localhost:8080/",
          "height": 51
        }
      },
      "source": [
        "print(\"Validation loss:\", val_loss)\n",
        "print(\"Validation accuracy:\", val_acc)"
      ],
      "execution_count": 14,
      "outputs": [
        {
          "output_type": "stream",
          "text": [
            "Validation loss: 0.42099982500076294\n",
            "Validation accuracy: 0.9300000071525574\n"
          ],
          "name": "stdout"
        }
      ]
    },
    {
      "cell_type": "markdown",
      "metadata": {
        "id": "7Ww756WToby8",
        "colab_type": "text"
      },
      "source": [
        "## Save the model"
      ]
    },
    {
      "cell_type": "code",
      "metadata": {
        "id": "0lTUpUdwobKW",
        "colab_type": "code",
        "colab": {}
      },
      "source": [
        "model_fname = 'cats_and_dogs_small_4.h5' \n",
        "model.save(model_fname)"
      ],
      "execution_count": 0,
      "outputs": []
    },
    {
      "cell_type": "code",
      "metadata": {
        "id": "YhEoI8ZTok-X",
        "colab_type": "code",
        "colab": {}
      },
      "source": [
        "from google.colab import files\n",
        "\n",
        "with open(model_fname, 'r') as f:\n",
        "  files.download(model_fname)"
      ],
      "execution_count": 0,
      "outputs": []
    },
    {
      "cell_type": "code",
      "metadata": {
        "id": "VNEL4CCcS0Oj",
        "colab_type": "code",
        "colab": {}
      },
      "source": [
        ""
      ],
      "execution_count": 0,
      "outputs": []
    }
  ]
}