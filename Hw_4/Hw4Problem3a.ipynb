{
  "nbformat": 4,
  "nbformat_minor": 0,
  "metadata": {
    "colab": {
      "name": "Hw4Problem3a.ipynb",
      "provenance": []
    },
    "kernelspec": {
      "name": "python3",
      "display_name": "Python 3"
    },
    "accelerator": "GPU"
  },
  "cells": [
    {
      "cell_type": "markdown",
      "metadata": {
        "id": "KSrgMJ5vKFzQ",
        "colab_type": "text"
      },
      "source": [
        "# Fine-tuning Xception "
      ]
    },
    {
      "cell_type": "markdown",
      "metadata": {
        "id": "TIW7bZaAK-Hf",
        "colab_type": "text"
      },
      "source": [
        "This is based on section 5.3 *Using a pretrained convnet* of the book *Deep learning with Python* by Francois Chollet. I have made several changes to the code. I use the data that is already provided by Google. I don't download the data from Kaggle as in the deep learning book."
      ]
    },
    {
      "cell_type": "markdown",
      "metadata": {
        "id": "nsBq__dVo2pj",
        "colab_type": "text"
      },
      "source": [
        "## Feature extraction"
      ]
    },
    {
      "cell_type": "markdown",
      "metadata": {
        "id": "0g6ETAM9o54M",
        "colab_type": "text"
      },
      "source": [
        "Feature extraction consists of using the representations learned by a previous network to extract interesting features from new samples. These features are then run through a new classifier, which is trained from scratch.\n",
        "\n",
        "We will use here the convolutional base of the VGG16 model to extract the features. We will feed these features to a densely connected classifier with dropout. We will fine-tune some layers."
      ]
    },
    {
      "cell_type": "markdown",
      "metadata": {
        "id": "BqIG8QHMLNOn",
        "colab_type": "text"
      },
      "source": [
        "## Download the data"
      ]
    },
    {
      "cell_type": "markdown",
      "metadata": {
        "id": "t3I1jd7cKV6_",
        "colab_type": "text"
      },
      "source": [
        "Download the example data, a zip. of 2,000 JPG pictures of cats and dogs and extract it locally in ```/tmp```.\n",
        "\n"
      ]
    },
    {
      "cell_type": "code",
      "metadata": {
        "id": "JWjprHEXJ5Qi",
        "colab_type": "code",
        "outputId": "ec8746db-3ce9-40b7-d2b8-e04028cae946",
        "colab": {
          "base_uri": "https://localhost:8080/",
          "height": 224
        }
      },
      "source": [
        "!wget --no-check-certificate \\\n",
        "    https://storage.googleapis.com/mledu-datasets/cats_and_dogs_filtered.zip \\\n",
        "    -O /tmp/cats_and_dogs_filtered.zip"
      ],
      "execution_count": 1,
      "outputs": [
        {
          "output_type": "stream",
          "text": [
            "--2020-04-21 22:15:43--  https://storage.googleapis.com/mledu-datasets/cats_and_dogs_filtered.zip\n",
            "Resolving storage.googleapis.com (storage.googleapis.com)... 172.217.218.128, 2a00:1450:4013:c04::80\n",
            "Connecting to storage.googleapis.com (storage.googleapis.com)|172.217.218.128|:443... connected.\n",
            "HTTP request sent, awaiting response... 200 OK\n",
            "Length: 68606236 (65M) [application/zip]\n",
            "Saving to: ‘/tmp/cats_and_dogs_filtered.zip’\n",
            "\n",
            "/tmp/cats_and_dogs_ 100%[===================>]  65.43M  80.4MB/s    in 0.8s    \n",
            "\n",
            "2020-04-21 22:15:44 (80.4 MB/s) - ‘/tmp/cats_and_dogs_filtered.zip’ saved [68606236/68606236]\n",
            "\n"
          ],
          "name": "stdout"
        }
      ]
    },
    {
      "cell_type": "code",
      "metadata": {
        "id": "WvoHtdA-K6Rw",
        "colab_type": "code",
        "colab": {}
      },
      "source": [
        "import os\n",
        "import zipfile\n",
        "\n",
        "local_zip = '/tmp/cats_and_dogs_filtered.zip'\n",
        "zip_ref = zipfile.ZipFile(local_zip, 'r')\n",
        "zip_ref.extractall('/tmp')\n",
        "zip_ref.close()"
      ],
      "execution_count": 0,
      "outputs": []
    },
    {
      "cell_type": "markdown",
      "metadata": {
        "id": "shZiOBnJMyy_",
        "colab_type": "text"
      },
      "source": [
        "Note that the data provided by Google does not have a test set."
      ]
    },
    {
      "cell_type": "code",
      "metadata": {
        "id": "dL8ikM89LlsH",
        "colab_type": "code",
        "colab": {}
      },
      "source": [
        "base_dir = '/tmp/cats_and_dogs_filtered'\n",
        "train_dir = os.path.join(base_dir, 'train')\n",
        "validation_dir = os.path.join(base_dir, 'validation')\n",
        "\n",
        "# Directory with our training cat pictures\n",
        "train_cats_dir = os.path.join(train_dir, 'cats')\n",
        "\n",
        "# Directory with our training dog pictures\n",
        "train_dogs_dir = os.path.join(train_dir, 'dogs')\n",
        "\n",
        "# Directory with our validation cat pictures\n",
        "validation_cats_dir = os.path.join(validation_dir, 'cats')\n",
        "\n",
        "# Directory with our validation dog pictures\n",
        "validation_dogs_dir = os.path.join(validation_dir, 'dogs')"
      ],
      "execution_count": 0,
      "outputs": []
    },
    {
      "cell_type": "markdown",
      "metadata": {
        "id": "inyP8bcdXnn-",
        "colab_type": "text"
      },
      "source": [
        "## Build network with VGG16 convolution base and custom densely connected layers"
      ]
    },
    {
      "cell_type": "markdown",
      "metadata": {
        "id": "kQ48W5T9rHWu",
        "colab_type": "text"
      },
      "source": [
        "### Load the convolutional base"
      ]
    },
    {
      "cell_type": "code",
      "metadata": {
        "id": "Y0FgtANCXm_H",
        "colab_type": "code",
        "outputId": "b7fc39a5-9275-4200-cccc-27241038fb9f",
        "colab": {
          "base_uri": "https://localhost:8080/",
          "height": 88
        }
      },
      "source": [
        "from keras.applications import Xception\n",
        "\n",
        "conv_base = Xception(\n",
        "    weights='imagenet', \n",
        "    include_top=False, \n",
        "    input_shape=(150, 150, 3))"
      ],
      "execution_count": 4,
      "outputs": [
        {
          "output_type": "stream",
          "text": [
            "Using TensorFlow backend.\n"
          ],
          "name": "stderr"
        },
        {
          "output_type": "stream",
          "text": [
            "Downloading data from https://github.com/fchollet/deep-learning-models/releases/download/v0.4/xception_weights_tf_dim_ordering_tf_kernels_notop.h5\n",
            "83689472/83683744 [==============================] - 3s 0us/step\n"
          ],
          "name": "stdout"
        }
      ]
    },
    {
      "cell_type": "markdown",
      "metadata": {
        "id": "D6OBHOO9q1ou",
        "colab_type": "text"
      },
      "source": [
        "### Freeze the convolutional base"
      ]
    },
    {
      "cell_type": "code",
      "metadata": {
        "id": "UleRo4Dpq6Ld",
        "colab_type": "code",
        "colab": {}
      },
      "source": [
        "conv_base.trainable = False"
      ],
      "execution_count": 0,
      "outputs": []
    },
    {
      "cell_type": "markdown",
      "metadata": {
        "id": "Qfx6PqhPrb7Q",
        "colab_type": "text"
      },
      "source": [
        "### Concatenate the convolutional base and densely connected layers"
      ]
    },
    {
      "cell_type": "code",
      "metadata": {
        "id": "qUpmocDAO3xm",
        "colab_type": "code",
        "colab": {}
      },
      "source": [
        "from keras import layers\n",
        "from keras import models\n",
        "from keras import optimizers\n",
        "\n",
        "model = models.Sequential()\n",
        "model.add(conv_base)\n",
        "model.add(layers.Flatten())\n",
        "model.add(layers.Dense(256, activation='relu'))\n",
        "#model.add(layers.Dropout(0.1))\n",
        "model.add(layers.Dense(1, activation='sigmoid'))"
      ],
      "execution_count": 0,
      "outputs": []
    },
    {
      "cell_type": "code",
      "metadata": {
        "id": "Fh6gZSeAjF7c",
        "colab_type": "code",
        "outputId": "ce60bd58-8e19-43d3-c849-f73d1843dcd6",
        "colab": {
          "base_uri": "https://localhost:8080/",
          "height": 289
        }
      },
      "source": [
        "model.summary()"
      ],
      "execution_count": 7,
      "outputs": [
        {
          "output_type": "stream",
          "text": [
            "Model: \"sequential_1\"\n",
            "_________________________________________________________________\n",
            "Layer (type)                 Output Shape              Param #   \n",
            "=================================================================\n",
            "xception (Model)             (None, 5, 5, 2048)        20861480  \n",
            "_________________________________________________________________\n",
            "flatten_1 (Flatten)          (None, 51200)             0         \n",
            "_________________________________________________________________\n",
            "dense_1 (Dense)              (None, 256)               13107456  \n",
            "_________________________________________________________________\n",
            "dense_2 (Dense)              (None, 1)                 257       \n",
            "=================================================================\n",
            "Total params: 33,969,193\n",
            "Trainable params: 13,107,713\n",
            "Non-trainable params: 20,861,480\n",
            "_________________________________________________________________\n"
          ],
          "name": "stdout"
        }
      ]
    },
    {
      "cell_type": "markdown",
      "metadata": {
        "id": "eZjBiddhi5Qj",
        "colab_type": "text"
      },
      "source": [
        "## Train the model end to end with frozen convolutional base"
      ]
    },
    {
      "cell_type": "code",
      "metadata": {
        "id": "tfAQlC2Oi41L",
        "colab_type": "code",
        "outputId": "aec79d1b-4579-4f2c-c702-c8a967ef1337",
        "colab": {
          "base_uri": "https://localhost:8080/",
          "height": 1000
        }
      },
      "source": [
        "from keras.preprocessing.image import ImageDataGenerator\n",
        "from keras import optimizers\n",
        "\n",
        "# data augmentation\n",
        "\n",
        "train_datagen = ImageDataGenerator(\n",
        "    rescale=1./255, \n",
        "    rotation_range=40,\n",
        "    width_shift_range=0.2,\n",
        "    height_shift_range=0.2,\n",
        "    shear_range=0.2,\n",
        "    zoom_range=0.2,\n",
        "    horizontal_flip=True,\n",
        "    fill_mode='nearest'\n",
        ")\n",
        "\n",
        "train_generator = train_datagen.flow_from_directory(\n",
        "    train_dir,\n",
        "    target_size=(150, 150),\n",
        "    batch_size=20,\n",
        "    class_mode='binary')\n",
        "\n",
        "validation_datagen = ImageDataGenerator(rescale=1./255)\n",
        "\n",
        "validation_generator = validation_datagen.flow_from_directory(\n",
        "    validation_dir,\n",
        "    target_size=(150, 150),\n",
        "    batch_size=20,\n",
        "    class_mode='binary')\n",
        "\n",
        "# compile model\n",
        "\n",
        "model.compile(\n",
        "    loss='binary_crossentropy', \n",
        "    optimizer=optimizers.RMSprop(lr=2e-5), \n",
        "    metrics=['acc'])\n",
        "\n",
        "# train\n",
        "\n",
        "history = model.fit_generator(\n",
        "    train_generator,\n",
        "    steps_per_epoch=100,\n",
        "    epochs=30,\n",
        "    validation_data=validation_generator,\n",
        "    validation_steps=50\n",
        ")"
      ],
      "execution_count": 8,
      "outputs": [
        {
          "output_type": "stream",
          "text": [
            "Found 2000 images belonging to 2 classes.\n",
            "Found 1000 images belonging to 2 classes.\n",
            "Epoch 1/30\n",
            "100/100 [==============================] - 28s 279ms/step - loss: 0.4404 - acc: 0.7770 - val_loss: 0.5080 - val_acc: 0.9610\n",
            "Epoch 2/30\n",
            "100/100 [==============================] - 18s 178ms/step - loss: 0.3678 - acc: 0.8295 - val_loss: 0.0098 - val_acc: 0.9600\n",
            "Epoch 3/30\n",
            "100/100 [==============================] - 18s 176ms/step - loss: 0.3366 - acc: 0.8505 - val_loss: 0.3520 - val_acc: 0.9630\n",
            "Epoch 4/30\n",
            "100/100 [==============================] - 18s 177ms/step - loss: 0.3460 - acc: 0.8430 - val_loss: 0.2528 - val_acc: 0.9650\n",
            "Epoch 5/30\n",
            "100/100 [==============================] - 18s 177ms/step - loss: 0.3182 - acc: 0.8600 - val_loss: 0.0049 - val_acc: 0.9640\n",
            "Epoch 6/30\n",
            "100/100 [==============================] - 18s 176ms/step - loss: 0.3081 - acc: 0.8585 - val_loss: 0.0436 - val_acc: 0.9660\n",
            "Epoch 7/30\n",
            "100/100 [==============================] - 18s 177ms/step - loss: 0.3241 - acc: 0.8610 - val_loss: 0.0701 - val_acc: 0.9600\n",
            "Epoch 8/30\n",
            "100/100 [==============================] - 18s 176ms/step - loss: 0.3228 - acc: 0.8555 - val_loss: 0.2200 - val_acc: 0.9650\n",
            "Epoch 9/30\n",
            "100/100 [==============================] - 18s 179ms/step - loss: 0.3046 - acc: 0.8680 - val_loss: 0.0060 - val_acc: 0.9660\n",
            "Epoch 10/30\n",
            "100/100 [==============================] - 18s 176ms/step - loss: 0.3055 - acc: 0.8745 - val_loss: 0.0585 - val_acc: 0.9640\n",
            "Epoch 11/30\n",
            "100/100 [==============================] - 18s 179ms/step - loss: 0.3167 - acc: 0.8580 - val_loss: 2.1098e-05 - val_acc: 0.9660\n",
            "Epoch 12/30\n",
            "100/100 [==============================] - 18s 176ms/step - loss: 0.3018 - acc: 0.8725 - val_loss: 0.1022 - val_acc: 0.9720\n",
            "Epoch 13/30\n",
            "100/100 [==============================] - 17s 175ms/step - loss: 0.2826 - acc: 0.8805 - val_loss: 0.1633 - val_acc: 0.9700\n",
            "Epoch 14/30\n",
            "100/100 [==============================] - 18s 177ms/step - loss: 0.2922 - acc: 0.8705 - val_loss: 3.5435e-04 - val_acc: 0.9700\n",
            "Epoch 15/30\n",
            "100/100 [==============================] - 18s 176ms/step - loss: 0.2900 - acc: 0.8770 - val_loss: 3.6358e-04 - val_acc: 0.9670\n",
            "Epoch 16/30\n",
            "100/100 [==============================] - 18s 177ms/step - loss: 0.2649 - acc: 0.8790 - val_loss: 0.4855 - val_acc: 0.9670\n",
            "Epoch 17/30\n",
            "100/100 [==============================] - 18s 175ms/step - loss: 0.2869 - acc: 0.8780 - val_loss: 0.0438 - val_acc: 0.9700\n",
            "Epoch 18/30\n",
            "100/100 [==============================] - 18s 178ms/step - loss: 0.2723 - acc: 0.8845 - val_loss: 5.4025e-08 - val_acc: 0.9680\n",
            "Epoch 19/30\n",
            "100/100 [==============================] - 18s 175ms/step - loss: 0.2813 - acc: 0.8845 - val_loss: 0.0089 - val_acc: 0.9690\n",
            "Epoch 20/30\n",
            "100/100 [==============================] - 17s 174ms/step - loss: 0.2965 - acc: 0.8720 - val_loss: 0.0054 - val_acc: 0.9660\n",
            "Epoch 21/30\n",
            "100/100 [==============================] - 17s 173ms/step - loss: 0.2498 - acc: 0.8940 - val_loss: 0.0954 - val_acc: 0.9690\n",
            "Epoch 22/30\n",
            "100/100 [==============================] - 17s 174ms/step - loss: 0.2727 - acc: 0.8840 - val_loss: 0.6414 - val_acc: 0.9700\n",
            "Epoch 23/30\n",
            "100/100 [==============================] - 18s 175ms/step - loss: 0.2543 - acc: 0.8800 - val_loss: 0.0462 - val_acc: 0.9710\n",
            "Epoch 24/30\n",
            "100/100 [==============================] - 17s 174ms/step - loss: 0.2818 - acc: 0.8800 - val_loss: 2.8935e-05 - val_acc: 0.9730\n",
            "Epoch 25/30\n",
            "100/100 [==============================] - 17s 173ms/step - loss: 0.2798 - acc: 0.8810 - val_loss: 0.4164 - val_acc: 0.9710\n",
            "Epoch 26/30\n",
            "100/100 [==============================] - 17s 173ms/step - loss: 0.2775 - acc: 0.8885 - val_loss: 8.5152e-04 - val_acc: 0.9670\n",
            "Epoch 27/30\n",
            "100/100 [==============================] - 17s 175ms/step - loss: 0.2740 - acc: 0.8780 - val_loss: 1.3798e-08 - val_acc: 0.9690\n",
            "Epoch 28/30\n",
            "100/100 [==============================] - 17s 174ms/step - loss: 0.2649 - acc: 0.8810 - val_loss: 0.1117 - val_acc: 0.9720\n",
            "Epoch 29/30\n",
            "100/100 [==============================] - 17s 174ms/step - loss: 0.2528 - acc: 0.9000 - val_loss: 0.0023 - val_acc: 0.9720\n",
            "Epoch 30/30\n",
            "100/100 [==============================] - 17s 173ms/step - loss: 0.2672 - acc: 0.8855 - val_loss: 0.1877 - val_acc: 0.9730\n"
          ],
          "name": "stdout"
        }
      ]
    },
    {
      "cell_type": "markdown",
      "metadata": {
        "id": "xqRc_vHKc92U",
        "colab_type": "text"
      },
      "source": [
        "## Display curves of loss and accuracy during training"
      ]
    },
    {
      "cell_type": "code",
      "metadata": {
        "id": "ybWwdzz9bwuQ",
        "colab_type": "code",
        "outputId": "c89b5871-87bc-4213-ab81-150319cf3ba6",
        "colab": {
          "base_uri": "https://localhost:8080/",
          "height": 545
        }
      },
      "source": [
        "%matplotlib inline\n",
        "\n",
        "import matplotlib.pyplot as plt\n",
        "\n",
        "acc = history.history['acc']\n",
        "val_acc = history.history['val_acc']\n",
        "\n",
        "loss = history.history['loss']\n",
        "val_loss = history.history['val_loss']\n",
        "\n",
        "epochs = range(1, len(acc) + 1)\n",
        "\n",
        "# training and validation accuracy\n",
        "\n",
        "plt.plot(epochs, acc, 'bo', label='training acc')\n",
        "plt.plot(epochs, val_acc, 'b', label='validation acc')\n",
        "plt.title('training and validation accuracy')\n",
        "plt.legend()\n",
        "\n",
        "plt.figure()\n",
        "\n",
        "# training and validation loss\n",
        "\n",
        "plt.plot(epochs, loss, 'bo', label='training loss')\n",
        "plt.plot(epochs, val_loss, 'b', label='validation loss')\n",
        "plt.title('training and validation loss')\n",
        "plt.legend()\n",
        "\n",
        "plt.show()"
      ],
      "execution_count": 9,
      "outputs": [
        {
          "output_type": "display_data",
          "data": {
            "image/png": "[encoded data removed]",
            "text/plain": [
              "<Figure size 432x288 with 1 Axes>"
            ]
          },
          "metadata": {
            "tags": [],
            "needs_background": "light"
          }
        },
        {
          "output_type": "display_data",
          "data": {
            "image/png": "[encoded data removed]",
            "text/plain": [
              "<Figure size 432x288 with 1 Axes>"
            ]
          },
          "metadata": {
            "tags": [],
            "needs_background": "light"
          }
        }
      ]
    },
    {
      "cell_type": "markdown",
      "metadata": {
        "id": "lOWsxpey8lN0",
        "colab_type": "text"
      },
      "source": [
        "## Fine-tuning"
      ]
    },
    {
      "cell_type": "code",
      "metadata": {
        "id": "PwkVMx8N8qMw",
        "colab_type": "code",
        "colab": {}
      },
      "source": [
        "conv_base.trainable = True\n",
        "\n",
        "set_trainable = False\n",
        "for layer in conv_base.layers:\n",
        "  if layer.name == 'block5_conv1':\n",
        "    set_trainable = True\n",
        "  if set_trainable:\n",
        "    layer.trainable = True\n",
        "  else:\n",
        "    layer.trainable = False"
      ],
      "execution_count": 0,
      "outputs": []
    },
    {
      "cell_type": "code",
      "metadata": {
        "id": "DyN-J7rs9cvo",
        "colab_type": "code",
        "outputId": "8ed66653-1be1-47da-8408-b4350ee5a054",
        "colab": {
          "base_uri": "https://localhost:8080/",
          "height": 1000
        }
      },
      "source": [
        "# compile model\n",
        "\n",
        "model.compile(\n",
        "    loss='binary_crossentropy',\n",
        "    #\n",
        "    # choose a smaller learning rate\n",
        "    #\n",
        "    optimizer=optimizers.RMSprop(lr=1e-5), \n",
        "    metrics=['acc'])\n",
        "\n",
        "# train\n",
        "\n",
        "history = model.fit_generator(\n",
        "    train_generator,\n",
        "    steps_per_epoch=100,\n",
        "    epochs=100,\n",
        "    validation_data=validation_generator,\n",
        "    validation_steps=50)"
      ],
      "execution_count": 11,
      "outputs": [
        {
          "output_type": "stream",
          "text": [
            "Epoch 1/100\n",
            "100/100 [==============================] - 21s 207ms/step - loss: 0.2597 - acc: 0.9040 - val_loss: 0.1326 - val_acc: 0.9470\n",
            "Epoch 2/100\n",
            "100/100 [==============================] - 17s 174ms/step - loss: 0.2664 - acc: 0.8835 - val_loss: 0.0231 - val_acc: 0.9440\n",
            "Epoch 3/100\n",
            "100/100 [==============================] - 17s 175ms/step - loss: 0.2450 - acc: 0.8945 - val_loss: 0.2568 - val_acc: 0.9340\n",
            "Epoch 4/100\n",
            "100/100 [==============================] - 18s 177ms/step - loss: 0.2526 - acc: 0.8970 - val_loss: 0.2900 - val_acc: 0.9310\n",
            "Epoch 5/100\n",
            "100/100 [==============================] - 17s 174ms/step - loss: 0.2424 - acc: 0.8995 - val_loss: 0.0659 - val_acc: 0.9320\n",
            "Epoch 6/100\n",
            "100/100 [==============================] - 17s 173ms/step - loss: 0.2307 - acc: 0.9060 - val_loss: 0.1275 - val_acc: 0.9360\n",
            "Epoch 7/100\n",
            "100/100 [==============================] - 17s 175ms/step - loss: 0.2361 - acc: 0.8925 - val_loss: 0.1087 - val_acc: 0.9340\n",
            "Epoch 8/100\n",
            "100/100 [==============================] - 17s 175ms/step - loss: 0.2328 - acc: 0.9025 - val_loss: 0.2330 - val_acc: 0.9370\n",
            "Epoch 9/100\n",
            "100/100 [==============================] - 17s 174ms/step - loss: 0.2515 - acc: 0.8990 - val_loss: 0.0676 - val_acc: 0.9180\n",
            "Epoch 10/100\n",
            "100/100 [==============================] - 17s 174ms/step - loss: 0.2584 - acc: 0.8935 - val_loss: 0.0915 - val_acc: 0.9280\n",
            "Epoch 11/100\n",
            "100/100 [==============================] - 17s 174ms/step - loss: 0.2283 - acc: 0.8995 - val_loss: 0.0445 - val_acc: 0.9110\n",
            "Epoch 12/100\n",
            "100/100 [==============================] - 17s 173ms/step - loss: 0.2248 - acc: 0.9075 - val_loss: 0.0590 - val_acc: 0.9270\n",
            "Epoch 13/100\n",
            "100/100 [==============================] - 18s 176ms/step - loss: 0.2432 - acc: 0.8990 - val_loss: 0.1112 - val_acc: 0.9170\n",
            "Epoch 14/100\n",
            "100/100 [==============================] - 17s 175ms/step - loss: 0.2177 - acc: 0.9060 - val_loss: 0.4659 - val_acc: 0.9320\n",
            "Epoch 15/100\n",
            "100/100 [==============================] - 17s 174ms/step - loss: 0.2245 - acc: 0.9095 - val_loss: 0.3991 - val_acc: 0.9210\n",
            "Epoch 16/100\n",
            "100/100 [==============================] - 17s 174ms/step - loss: 0.2433 - acc: 0.9060 - val_loss: 0.5556 - val_acc: 0.9310\n",
            "Epoch 17/100\n",
            "100/100 [==============================] - 17s 174ms/step - loss: 0.2461 - acc: 0.9020 - val_loss: 1.0961 - val_acc: 0.9230\n",
            "Epoch 18/100\n",
            "100/100 [==============================] - 18s 176ms/step - loss: 0.2106 - acc: 0.9170 - val_loss: 0.1744 - val_acc: 0.9260\n",
            "Epoch 19/100\n",
            "100/100 [==============================] - 17s 174ms/step - loss: 0.2526 - acc: 0.8915 - val_loss: 0.1860 - val_acc: 0.9210\n",
            "Epoch 20/100\n",
            "100/100 [==============================] - 17s 174ms/step - loss: 0.2420 - acc: 0.8895 - val_loss: 0.0804 - val_acc: 0.9300\n",
            "Epoch 21/100\n",
            "100/100 [==============================] - 17s 173ms/step - loss: 0.2253 - acc: 0.9075 - val_loss: 0.1252 - val_acc: 0.9380\n",
            "Epoch 22/100\n",
            "100/100 [==============================] - 17s 175ms/step - loss: 0.2472 - acc: 0.9060 - val_loss: 0.3461 - val_acc: 0.9390\n",
            "Epoch 23/100\n",
            "100/100 [==============================] - 17s 174ms/step - loss: 0.2200 - acc: 0.9080 - val_loss: 0.1603 - val_acc: 0.9210\n",
            "Epoch 24/100\n",
            "100/100 [==============================] - 17s 174ms/step - loss: 0.2369 - acc: 0.9115 - val_loss: 0.2456 - val_acc: 0.9130\n",
            "Epoch 25/100\n",
            "100/100 [==============================] - 17s 174ms/step - loss: 0.2459 - acc: 0.9035 - val_loss: 0.2912 - val_acc: 0.9290\n",
            "Epoch 26/100\n",
            "100/100 [==============================] - 17s 173ms/step - loss: 0.2528 - acc: 0.9020 - val_loss: 0.1341 - val_acc: 0.9260\n",
            "Epoch 27/100\n",
            "100/100 [==============================] - 18s 175ms/step - loss: 0.2218 - acc: 0.9120 - val_loss: 0.0603 - val_acc: 0.9330\n",
            "Epoch 28/100\n",
            "100/100 [==============================] - 17s 173ms/step - loss: 0.2222 - acc: 0.9060 - val_loss: 0.1194 - val_acc: 0.9370\n",
            "Epoch 29/100\n",
            "100/100 [==============================] - 17s 174ms/step - loss: 0.2388 - acc: 0.9030 - val_loss: 0.1199 - val_acc: 0.9280\n",
            "Epoch 30/100\n",
            "100/100 [==============================] - 17s 174ms/step - loss: 0.2288 - acc: 0.9070 - val_loss: 0.0669 - val_acc: 0.9280\n",
            "Epoch 31/100\n",
            "100/100 [==============================] - 17s 175ms/step - loss: 0.2014 - acc: 0.9135 - val_loss: 0.1504 - val_acc: 0.9210\n",
            "Epoch 32/100\n",
            "100/100 [==============================] - 17s 174ms/step - loss: 0.2346 - acc: 0.9080 - val_loss: 0.1348 - val_acc: 0.9320\n",
            "Epoch 33/100\n",
            "100/100 [==============================] - 17s 172ms/step - loss: 0.2044 - acc: 0.9255 - val_loss: 0.0298 - val_acc: 0.9330\n",
            "Epoch 34/100\n",
            "100/100 [==============================] - 18s 175ms/step - loss: 0.2125 - acc: 0.9080 - val_loss: 0.2449 - val_acc: 0.9300\n",
            "Epoch 35/100\n",
            "100/100 [==============================] - 18s 176ms/step - loss: 0.2151 - acc: 0.9095 - val_loss: 0.3250 - val_acc: 0.9240\n",
            "Epoch 36/100\n",
            "100/100 [==============================] - 18s 176ms/step - loss: 0.2508 - acc: 0.8950 - val_loss: 0.0763 - val_acc: 0.9120\n",
            "Epoch 37/100\n",
            "100/100 [==============================] - 17s 173ms/step - loss: 0.2275 - acc: 0.9020 - val_loss: 0.2347 - val_acc: 0.9330\n",
            "Epoch 38/100\n",
            "100/100 [==============================] - 17s 174ms/step - loss: 0.2198 - acc: 0.9180 - val_loss: 0.0771 - val_acc: 0.9290\n",
            "Epoch 39/100\n",
            "100/100 [==============================] - 17s 173ms/step - loss: 0.2091 - acc: 0.9105 - val_loss: 0.0345 - val_acc: 0.9350\n",
            "Epoch 40/100\n",
            "100/100 [==============================] - 17s 174ms/step - loss: 0.2227 - acc: 0.9095 - val_loss: 0.0114 - val_acc: 0.9230\n",
            "Epoch 41/100\n",
            "100/100 [==============================] - 18s 176ms/step - loss: 0.2285 - acc: 0.9130 - val_loss: 0.1128 - val_acc: 0.9170\n",
            "Epoch 42/100\n",
            "100/100 [==============================] - 18s 175ms/step - loss: 0.2177 - acc: 0.9125 - val_loss: 0.1417 - val_acc: 0.9190\n",
            "Epoch 43/100\n",
            "100/100 [==============================] - 17s 174ms/step - loss: 0.2178 - acc: 0.9135 - val_loss: 0.1940 - val_acc: 0.9320\n",
            "Epoch 44/100\n",
            "100/100 [==============================] - 17s 173ms/step - loss: 0.1988 - acc: 0.9155 - val_loss: 0.0633 - val_acc: 0.9220\n",
            "Epoch 45/100\n",
            "100/100 [==============================] - 17s 175ms/step - loss: 0.2243 - acc: 0.9120 - val_loss: 0.0230 - val_acc: 0.9360\n",
            "Epoch 46/100\n",
            "100/100 [==============================] - 17s 174ms/step - loss: 0.1986 - acc: 0.9280 - val_loss: 0.0668 - val_acc: 0.9160\n",
            "Epoch 47/100\n",
            "100/100 [==============================] - 17s 174ms/step - loss: 0.2191 - acc: 0.9120 - val_loss: 0.3187 - val_acc: 0.9300\n",
            "Epoch 48/100\n",
            "100/100 [==============================] - 17s 174ms/step - loss: 0.1924 - acc: 0.9205 - val_loss: 0.0549 - val_acc: 0.9320\n",
            "Epoch 49/100\n",
            "100/100 [==============================] - 18s 177ms/step - loss: 0.2202 - acc: 0.9120 - val_loss: 0.1140 - val_acc: 0.9320\n",
            "Epoch 50/100\n",
            "100/100 [==============================] - 18s 175ms/step - loss: 0.2317 - acc: 0.9045 - val_loss: 0.2623 - val_acc: 0.9290\n",
            "Epoch 51/100\n",
            "100/100 [==============================] - 17s 174ms/step - loss: 0.2108 - acc: 0.9175 - val_loss: 0.1544 - val_acc: 0.9390\n",
            "Epoch 52/100\n",
            "100/100 [==============================] - 17s 174ms/step - loss: 0.2047 - acc: 0.9115 - val_loss: 0.2279 - val_acc: 0.9380\n",
            "Epoch 53/100\n",
            "100/100 [==============================] - 18s 175ms/step - loss: 0.2038 - acc: 0.9205 - val_loss: 0.2267 - val_acc: 0.9270\n",
            "Epoch 54/100\n",
            "100/100 [==============================] - 17s 175ms/step - loss: 0.2139 - acc: 0.9130 - val_loss: 0.1160 - val_acc: 0.9320\n",
            "Epoch 55/100\n",
            "100/100 [==============================] - 18s 175ms/step - loss: 0.2089 - acc: 0.9200 - val_loss: 0.1236 - val_acc: 0.9160\n",
            "Epoch 56/100\n",
            "100/100 [==============================] - 17s 174ms/step - loss: 0.1884 - acc: 0.9265 - val_loss: 0.2127 - val_acc: 0.9240\n",
            "Epoch 57/100\n",
            "100/100 [==============================] - 18s 175ms/step - loss: 0.2140 - acc: 0.9260 - val_loss: 0.2821 - val_acc: 0.9370\n",
            "Epoch 58/100\n",
            "100/100 [==============================] - 18s 176ms/step - loss: 0.2153 - acc: 0.9140 - val_loss: 0.1623 - val_acc: 0.9220\n",
            "Epoch 59/100\n",
            "100/100 [==============================] - 18s 177ms/step - loss: 0.2106 - acc: 0.9130 - val_loss: 0.0111 - val_acc: 0.9210\n",
            "Epoch 60/100\n",
            "100/100 [==============================] - 18s 175ms/step - loss: 0.1837 - acc: 0.9235 - val_loss: 0.2303 - val_acc: 0.9350\n",
            "Epoch 61/100\n",
            "100/100 [==============================] - 18s 176ms/step - loss: 0.2156 - acc: 0.9200 - val_loss: 0.0425 - val_acc: 0.9390\n",
            "Epoch 62/100\n",
            "100/100 [==============================] - 18s 177ms/step - loss: 0.2147 - acc: 0.9130 - val_loss: 0.4623 - val_acc: 0.9150\n",
            "Epoch 63/100\n",
            "100/100 [==============================] - 18s 177ms/step - loss: 0.2141 - acc: 0.9245 - val_loss: 0.0916 - val_acc: 0.9370\n",
            "Epoch 64/100\n",
            "100/100 [==============================] - 18s 176ms/step - loss: 0.1964 - acc: 0.9200 - val_loss: 0.1262 - val_acc: 0.9200\n",
            "Epoch 65/100\n",
            "100/100 [==============================] - 18s 176ms/step - loss: 0.1857 - acc: 0.9270 - val_loss: 0.1650 - val_acc: 0.9330\n",
            "Epoch 66/100\n",
            "100/100 [==============================] - 17s 175ms/step - loss: 0.2075 - acc: 0.9135 - val_loss: 0.0820 - val_acc: 0.9360\n",
            "Epoch 67/100\n",
            "100/100 [==============================] - 18s 179ms/step - loss: 0.1994 - acc: 0.9195 - val_loss: 0.0285 - val_acc: 0.9360\n",
            "Epoch 68/100\n",
            "100/100 [==============================] - 18s 178ms/step - loss: 0.2114 - acc: 0.9115 - val_loss: 0.0786 - val_acc: 0.9360\n",
            "Epoch 69/100\n",
            "100/100 [==============================] - 18s 178ms/step - loss: 0.2140 - acc: 0.9145 - val_loss: 0.3340 - val_acc: 0.9390\n",
            "Epoch 70/100\n",
            "100/100 [==============================] - 18s 177ms/step - loss: 0.2035 - acc: 0.9195 - val_loss: 0.0515 - val_acc: 0.9400\n",
            "Epoch 71/100\n",
            "100/100 [==============================] - 18s 177ms/step - loss: 0.1993 - acc: 0.9195 - val_loss: 0.0625 - val_acc: 0.9300\n",
            "Epoch 72/100\n",
            "100/100 [==============================] - 18s 177ms/step - loss: 0.2157 - acc: 0.9150 - val_loss: 0.2726 - val_acc: 0.9270\n",
            "Epoch 73/100\n",
            "100/100 [==============================] - 18s 178ms/step - loss: 0.2006 - acc: 0.9135 - val_loss: 0.1435 - val_acc: 0.9340\n",
            "Epoch 74/100\n",
            "100/100 [==============================] - 18s 176ms/step - loss: 0.1890 - acc: 0.9225 - val_loss: 0.0605 - val_acc: 0.9370\n",
            "Epoch 75/100\n",
            "100/100 [==============================] - 18s 176ms/step - loss: 0.1874 - acc: 0.9330 - val_loss: 0.4899 - val_acc: 0.9290\n",
            "Epoch 76/100\n",
            "100/100 [==============================] - 18s 177ms/step - loss: 0.2028 - acc: 0.9145 - val_loss: 0.0864 - val_acc: 0.9390\n",
            "Epoch 77/100\n",
            "100/100 [==============================] - 18s 178ms/step - loss: 0.2120 - acc: 0.9105 - val_loss: 0.0893 - val_acc: 0.9350\n",
            "Epoch 78/100\n",
            "100/100 [==============================] - 18s 176ms/step - loss: 0.1783 - acc: 0.9285 - val_loss: 0.2857 - val_acc: 0.9310\n",
            "Epoch 79/100\n",
            "100/100 [==============================] - 18s 176ms/step - loss: 0.2211 - acc: 0.9165 - val_loss: 0.1086 - val_acc: 0.9260\n",
            "Epoch 80/100\n",
            "100/100 [==============================] - 18s 176ms/step - loss: 0.1839 - acc: 0.9260 - val_loss: 0.1682 - val_acc: 0.9240\n",
            "Epoch 81/100\n",
            "100/100 [==============================] - 18s 176ms/step - loss: 0.1988 - acc: 0.9285 - val_loss: 0.0163 - val_acc: 0.9330\n",
            "Epoch 82/100\n",
            "100/100 [==============================] - 18s 177ms/step - loss: 0.2048 - acc: 0.9210 - val_loss: 0.4855 - val_acc: 0.9190\n",
            "Epoch 83/100\n",
            "100/100 [==============================] - 18s 176ms/step - loss: 0.2050 - acc: 0.9175 - val_loss: 0.0825 - val_acc: 0.9350\n",
            "Epoch 84/100\n",
            "100/100 [==============================] - 18s 176ms/step - loss: 0.1964 - acc: 0.9235 - val_loss: 0.1979 - val_acc: 0.9390\n",
            "Epoch 85/100\n",
            "100/100 [==============================] - 17s 175ms/step - loss: 0.2065 - acc: 0.9215 - val_loss: 0.3631 - val_acc: 0.9110\n",
            "Epoch 86/100\n",
            "100/100 [==============================] - 17s 174ms/step - loss: 0.2052 - acc: 0.9155 - val_loss: 0.1022 - val_acc: 0.9320\n",
            "Epoch 87/100\n",
            "100/100 [==============================] - 17s 175ms/step - loss: 0.2125 - acc: 0.9180 - val_loss: 0.1597 - val_acc: 0.9200\n",
            "Epoch 88/100\n",
            "100/100 [==============================] - 18s 175ms/step - loss: 0.1929 - acc: 0.9285 - val_loss: 0.1016 - val_acc: 0.9290\n",
            "Epoch 89/100\n",
            "100/100 [==============================] - 18s 175ms/step - loss: 0.1896 - acc: 0.9205 - val_loss: 0.4297 - val_acc: 0.9190\n",
            "Epoch 90/100\n",
            "100/100 [==============================] - 18s 175ms/step - loss: 0.1833 - acc: 0.9305 - val_loss: 0.1961 - val_acc: 0.9350\n",
            "Epoch 91/100\n",
            "100/100 [==============================] - 18s 175ms/step - loss: 0.2113 - acc: 0.9130 - val_loss: 0.2714 - val_acc: 0.9320\n",
            "Epoch 92/100\n",
            "100/100 [==============================] - 17s 175ms/step - loss: 0.2041 - acc: 0.9215 - val_loss: 0.2281 - val_acc: 0.9300\n",
            "Epoch 93/100\n",
            "100/100 [==============================] - 17s 173ms/step - loss: 0.2085 - acc: 0.9160 - val_loss: 0.3342 - val_acc: 0.9010\n",
            "Epoch 94/100\n",
            "100/100 [==============================] - 17s 174ms/step - loss: 0.2071 - acc: 0.9135 - val_loss: 0.2225 - val_acc: 0.9280\n",
            "Epoch 95/100\n",
            "100/100 [==============================] - 17s 174ms/step - loss: 0.2037 - acc: 0.9245 - val_loss: 0.1649 - val_acc: 0.9370\n",
            "Epoch 96/100\n",
            "100/100 [==============================] - 17s 175ms/step - loss: 0.2065 - acc: 0.9220 - val_loss: 0.1307 - val_acc: 0.9320\n",
            "Epoch 97/100\n",
            "100/100 [==============================] - 17s 173ms/step - loss: 0.1773 - acc: 0.9255 - val_loss: 0.0448 - val_acc: 0.9350\n",
            "Epoch 98/100\n",
            "100/100 [==============================] - 17s 175ms/step - loss: 0.1897 - acc: 0.9225 - val_loss: 0.3245 - val_acc: 0.9130\n",
            "Epoch 99/100\n",
            "100/100 [==============================] - 17s 175ms/step - loss: 0.1885 - acc: 0.9275 - val_loss: 0.2580 - val_acc: 0.9260\n",
            "Epoch 100/100\n",
            "100/100 [==============================] - 17s 174ms/step - loss: 0.1876 - acc: 0.9240 - val_loss: 0.1434 - val_acc: 0.9220\n"
          ],
          "name": "stdout"
        }
      ]
    },
    {
      "cell_type": "markdown",
      "metadata": {
        "id": "eVBQgh5M-Rtz",
        "colab_type": "text"
      },
      "source": [
        "## Display learning curves during fine-tuning"
      ]
    },
    {
      "cell_type": "code",
      "metadata": {
        "id": "mbkIw7Ie-NP4",
        "colab_type": "code",
        "outputId": "369fdb47-6e4c-4580-b5f1-e78578538e9e",
        "colab": {
          "base_uri": "https://localhost:8080/",
          "height": 545
        }
      },
      "source": [
        "%matplotlib inline\n",
        "\n",
        "import matplotlib.pyplot as plt\n",
        "\n",
        "acc = history.history['acc']\n",
        "val_acc = history.history['val_acc']\n",
        "\n",
        "loss = history.history['loss']\n",
        "val_loss = history.history['val_loss']\n",
        "\n",
        "epochs = range(1, len(acc) + 1)\n",
        "\n",
        "# training and validation accuracy\n",
        "\n",
        "plt.plot(epochs, acc, 'bo', label='training acc')\n",
        "plt.plot(epochs, val_acc, 'b', label='validation acc')\n",
        "plt.title('training and validation accuracy')\n",
        "plt.legend()\n",
        "\n",
        "plt.figure()\n",
        "\n",
        "# training and validation loss\n",
        "\n",
        "plt.plot(epochs, loss, 'bo', label='training loss')\n",
        "plt.plot(epochs, val_loss, 'b', label='validation loss')\n",
        "plt.title('training and validation loss')\n",
        "plt.legend()\n",
        "\n",
        "plt.show()"
      ],
      "execution_count": 12,
      "outputs": [
        {
          "output_type": "display_data",
          "data": {
            "image/png": "[encoded data removed]",
            "text/plain": [
              "<Figure size 432x288 with 1 Axes>"
            ]
          },
          "metadata": {
            "tags": [],
            "needs_background": "light"
          }
        },
        {
          "output_type": "display_data",
          "data": {
            "image/png": "[encoded data removed]",
            "text/plain": [
              "<Figure size 432x288 with 1 Axes>"
            ]
          },
          "metadata": {
            "tags": [],
            "needs_background": "light"
          }
        }
      ]
    },
    {
      "cell_type": "markdown",
      "metadata": {
        "id": "obQi6N4ZShdi",
        "colab_type": "text"
      },
      "source": [
        "This looks like overfitting. I should try  adding dropout for the densely connected layer."
      ]
    },
    {
      "cell_type": "markdown",
      "metadata": {
        "id": "he3Nw6TOJwjx",
        "colab_type": "text"
      },
      "source": [
        "## Print out validation loss and accuracy"
      ]
    },
    {
      "cell_type": "code",
      "metadata": {
        "id": "SVQtrk7uJdhl",
        "colab_type": "code",
        "colab": {}
      },
      "source": [
        "val_loss, val_acc = model.evaluate_generator(validation_generator, steps=50)"
      ],
      "execution_count": 0,
      "outputs": []
    },
    {
      "cell_type": "code",
      "metadata": {
        "id": "HpdddLi1SUMe",
        "colab_type": "code",
        "outputId": "1c5559df-2823-427f-8a58-527e3283552f",
        "colab": {
          "base_uri": "https://localhost:8080/",
          "height": 51
        }
      },
      "source": [
        "print(\"Validation loss:\", val_loss)\n",
        "print(\"Validation accuracy:\", val_acc)"
      ],
      "execution_count": 14,
      "outputs": [
        {
          "output_type": "stream",
          "text": [
            "Validation loss: 0.19955919682979584\n",
            "Validation accuracy: 0.921999990940094\n"
          ],
          "name": "stdout"
        }
      ]
    },
    {
      "cell_type": "markdown",
      "metadata": {
        "id": "7Ww756WToby8",
        "colab_type": "text"
      },
      "source": [
        "## Save the model"
      ]
    },
    {
      "cell_type": "code",
      "metadata": {
        "id": "0lTUpUdwobKW",
        "colab_type": "code",
        "colab": {}
      },
      "source": [
        "model_fname = 'cats_and_dogs_small_4.h5' \n",
        "model.save(model_fname)"
      ],
      "execution_count": 0,
      "outputs": []
    },
    {
      "cell_type": "code",
      "metadata": {
        "id": "YhEoI8ZTok-X",
        "colab_type": "code",
        "colab": {}
      },
      "source": [
        "from google.colab import files\n",
        "\n",
        "with open(model_fname, 'r') as f:\n",
        "  files.download(model_fname)"
      ],
      "execution_count": 0,
      "outputs": []
    },
    {
      "cell_type": "code",
      "metadata": {
        "id": "VNEL4CCcS0Oj",
        "colab_type": "code",
        "colab": {}
      },
      "source": [
        ""
      ],
      "execution_count": 0,
      "outputs": []
    }
  ]
}