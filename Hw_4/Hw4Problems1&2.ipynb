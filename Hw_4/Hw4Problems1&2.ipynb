{
  "nbformat": 4,
  "nbformat_minor": 0,
  "metadata": {
    "colab": {
      "name": "Hw4Problems1&2.ipynb",
      "provenance": [],
      "collapsed_sections": []
    },
    "kernelspec": {
      "name": "python3",
      "display_name": "Python 3"
    }
  },
  "cells": [
    {
      "cell_type": "code",
      "metadata": {
        "id": "kOY3HJbWHufG",
        "colab_type": "code",
        "colab": {}
      },
      "source": [
        "import numpy as np"
      ],
      "execution_count": 0,
      "outputs": []
    },
    {
      "cell_type": "markdown",
      "metadata": {
        "id": "CbRr31l-H3Ri",
        "colab_type": "text"
      },
      "source": [
        "Problem 1\n",
        "\n",
        "Using only numpy, implement the function conv2d. It takes as input input_mat and kernel_mat and outputs output_mat. All variables are square matrices. It should compute the convolution of input_mat with the kernel kernel_mat using valid padding.\n",
        "\n",
        "Note that the size s of the kernel matrix can also be an even number."
      ]
    },
    {
      "cell_type": "code",
      "metadata": {
        "id": "6PCSn80xH7Ct",
        "colab_type": "code",
        "colab": {}
      },
      "source": [
        "def conv2d(input_mat, kernal_mat):\n",
        "    in_size = input_mat.shape[0]\n",
        "    k_size = kernal_mat.shape[0]\n",
        "\n",
        "    # Check if matrices are valid.\n",
        "    if input_mat.shape[0] != input_mat.shape[1]:\n",
        "        print(\"Error: input matrix is not an n x n matrix.\")\n",
        "        return []\n",
        "    elif kernal_mat.shape[0] != kernal_mat.shape[1]:\n",
        "        print(\"Error: kernal matrix is not an n x n matrix.\")\n",
        "        return []\n",
        "    elif k_size > in_size:\n",
        "        print(\"Error: kernal matrix cannot be larger than input matrix.\")\n",
        "        return []\n",
        "    \n",
        "    n = in_size - k_size + 1\n",
        "    if in_size < 1 or k_size < 1 or n < 1:\n",
        "        print(\"Error: Negative dimensions are not allowed.\");\n",
        "        return []\n",
        "    \n",
        "    # Create output matrix\n",
        "    output_mat = np.zeros((n, n))\n",
        "\n",
        "    # Convolution\n",
        "    for i in range(n):\n",
        "        for j in range(n):\n",
        "            output_mat[i, j] = np.sum(input_mat[i:i+k_size, j:j+k_size] * kernal_mat)\n",
        "\n",
        "    return output_mat\n"
      ],
      "execution_count": 0,
      "outputs": []
    },
    {
      "cell_type": "markdown",
      "metadata": {
        "id": "-wWRJrHlaKaI",
        "colab_type": "text"
      },
      "source": [
        "Test Cases\n"
      ]
    },
    {
      "cell_type": "code",
      "metadata": {
        "id": "nrkMs_G-aBzz",
        "colab_type": "code",
        "outputId": "e6255503-b892-48db-ab11-6a5a773cbac0",
        "colab": {
          "base_uri": "https://localhost:8080/",
          "height": 391
        }
      },
      "source": [
        "from scipy import signal\n",
        "import numpy as np\n",
        "\n",
        "input_mat = []\n",
        "kernel_mat = []\n",
        "expected_mat = []\n",
        "\n",
        "# test case 1\n",
        "input_mat.append(np.array([[1, 2, 1, 2],\n",
        "                      [2, 1, 2, 1],\n",
        "                      [1, 2, 1, 2],\n",
        "                      [2, 1, 2, 1]]))\n",
        "\n",
        "kernel_mat.append(np.array([[1, 0],\n",
        "                       [0, 1]]))\n",
        "\n",
        "expected_mat.append(np.array([[2, 4, 2],\n",
        "                                [4, 2, 4],\n",
        "                                [2, 4, 2]]))\n",
        "\n",
        "# test case 2\n",
        "input_mat.append(np.array([[1, 0, 0, 0],\n",
        "                      [0, 1, 0, 0],\n",
        "                      [0, 0, 1, 0],\n",
        "                      [0, 0, 0, 1]]))\n",
        "kernel_mat.append(np.array([[1, 0], [0, 1]]))\n",
        "expected_mat.append(np.array([[2, 0, 0], [0, 2, 0], [0, 0, 2]]))\n",
        "\n",
        "\n",
        "# test case 3\n",
        "input_mat.append(np.array([[1, 0, 0, 0],\n",
        "                      [0, 1, 0, 0],\n",
        "                      [0, 0, 1, 0],\n",
        "                      [0, 0, 0, 1]]))\n",
        "kernel_mat.append(np.array([[1, -1],\n",
        "                       [-1, 0]]))\n",
        "\n",
        "expected_mat.append(np.array([[ 1, -1,  0], [-1,  1, -1],[ 0, -1,  1]]))\n",
        "\n",
        "\n",
        "# test case 4\n",
        "input_mat.append(np.array([[1, 0, 0, 0],\n",
        "                      [0, 1, 0, 0],\n",
        "                      [0, 0, 1, 0],\n",
        "                      [0, 0, 0, 1]]))\n",
        "kernel_mat.append(np.array([[1, 0, 0, 0],\n",
        "                      [0, 1, 0, 0],\n",
        "                      [0, 0, 1, 0],\n",
        "                      [0, 0, 0, 1]]))\n",
        "\n",
        "expected_mat.append(np.array([[4]]))\n",
        "\n",
        "\n",
        "# test case 5 - should either through an error, or return empty matrix\n",
        "input_mat.append(np.array([[1, -1],\n",
        "                       [-1, 0]]))\n",
        "kernel_mat.append(np.array([[1, 0, 0, 0],\n",
        "                      [0, 1, 0, 0],\n",
        "                      [0, 0, 1, 0],\n",
        "                      [0, 0, 0, 1]]))\n",
        "\n",
        "expected_mat.append([])\n",
        "\n",
        "\n",
        "\n",
        "for i in range(len(input_mat)):\n",
        "  # uncomment line for student code testing\n",
        "  output_mat = conv2d(input_mat[i], kernel_mat[i])\n",
        "\n",
        "  # uncomment lines below (and comment line above) for generating test cases.\n",
        "  if input_mat[i].shape[0] < kernel_mat[i].shape[0]:\n",
        "    output_mat = []\n",
        "  else:\n",
        "    output_mat = signal.convolve2d(input_mat[i], kernel_mat[i], mode='valid')\n",
        "\n",
        "  print(output_mat)\n",
        "  if np.array_equal(output_mat, expected_mat[i]):\n",
        "    print(\"Correct output!\\n\")\n",
        "  else:\n",
        "    print(\"Incorrect output!\\n\")"
      ],
      "execution_count": 8,
      "outputs": [
        {
          "output_type": "stream",
          "text": [
            "[[2 4 2]\n",
            " [4 2 4]\n",
            " [2 4 2]]\n",
            "Correct output!\n",
            "\n",
            "[[2 0 0]\n",
            " [0 2 0]\n",
            " [0 0 2]]\n",
            "Correct output!\n",
            "\n",
            "[[ 1 -1  0]\n",
            " [-1  1 -1]\n",
            " [ 0 -1  1]]\n",
            "Correct output!\n",
            "\n",
            "[[4]]\n",
            "Correct output!\n",
            "\n",
            "Error: kernal matrix cannot be larger than input matrix.\n",
            "[]\n",
            "Correct output!\n",
            "\n"
          ],
          "name": "stdout"
        }
      ]
    },
    {
      "cell_type": "markdown",
      "metadata": {
        "id": "HVruhEccsFwU",
        "colab_type": "text"
      },
      "source": [
        "Using only numpy, implement the function maxpooling2d. It takes as input input_mat and s and outputs output_mat. The variables input_mat and output_mat are square matrices and s is an integer. It should compute the maxpooling operation on input_mat using window of shape s times s."
      ]
    },
    {
      "cell_type": "code",
      "metadata": {
        "id": "UhyfP8_Zvyzs",
        "colab_type": "code",
        "colab": {}
      },
      "source": [
        "def maxpooling2d(input_mat, s):\n",
        "    in_size = input_mat.shape[0]\n",
        "\n",
        "    # Check if matrices are valid.\n",
        "    if input_mat.shape[0] != input_mat.shape[1]:\n",
        "        print(\"Error: input matrix is not an n x n matrix.\")\n",
        "        return []\n",
        "    \n",
        "    # Create dimensions of output matrix\n",
        "    x = int(input_mat.shape[0] / s)\n",
        "    y = int(input_mat.shape[1] / s)\n",
        "    \n",
        "    # Create output matrix\n",
        "    output_mat = np.zeros((x, y))\n",
        "\n",
        "    # Maxpooling\n",
        "    for i in range(x):\n",
        "        for j in range(y):\n",
        "            in_slice = input_mat[i*s:(i+1)*s, j*s:(j+1)*s]\n",
        "            output_mat[i, j] = np.amax(in_slice)\n",
        "\n",
        "    return output_mat"
      ],
      "execution_count": 0,
      "outputs": []
    },
    {
      "cell_type": "code",
      "metadata": {
        "id": "JgN5xHRHxHp6",
        "colab_type": "code",
        "outputId": "f4466e24-c737-4e72-f173-bdf7fb21bca8",
        "colab": {
          "base_uri": "https://localhost:8080/",
          "height": 136
        }
      },
      "source": [
        "import skimage.measure\n",
        "\n",
        "input_mat = []\n",
        "expected_mat = []\n",
        "s = []\n",
        "input_mat.append(np.array([[1, 2, 1, 2],\n",
        "                           [2, 4, 2, 1],\n",
        "                           [1, 2, 4, 2],\n",
        "                           [2, 1, 2, 1]]))\n",
        "s.append(2)\n",
        "\n",
        "expected_mat.append(np.array([[4, 2],\n",
        "                              [2, 4]]))\n",
        "\n",
        "input_mat.append(np.array([[1, 2, 1, 2, 4, 5],\n",
        "                           [2, 4, 2, 1, 0, 3],\n",
        "                           [1, 2, 4, 2, 4, 5],\n",
        "                           [2, 1, 2, 1, 2, 1],\n",
        "                           [1, 1, 2, 3, 1, 2],\n",
        "                           [1, 1, 2, 3, 1, 2]]))\n",
        "s.append(2)\n",
        "\n",
        "expected_mat.append([[4, 2, 5],\n",
        "                     [2, 4, 5],\n",
        "                     [1, 3, 2]])\n",
        "\n",
        "\n",
        "for i in range(len(input_mat)):\n",
        "  # uncomment top line and comment second line to test code\n",
        "  output_mat = maxpooling2d(input_mat[i], s[i])\n",
        "  #output_mat = skimage.measure.block_reduce(input_mat[i], (s[i],s[i]), np.max)\n",
        "\n",
        "  print(output_mat)\n",
        "\n",
        "  if np.array_equal(output_mat, expected_mat[i]):\n",
        "    print(\"Correct output!\")\n",
        "  else:\n",
        "    print(\"Incorrect output!\")\n"
      ],
      "execution_count": 10,
      "outputs": [
        {
          "output_type": "stream",
          "text": [
            "[[4. 2.]\n",
            " [2. 4.]]\n",
            "Correct output!\n",
            "[[4. 2. 5.]\n",
            " [2. 4. 5.]\n",
            " [1. 3. 2.]]\n",
            "Correct output!\n"
          ],
          "name": "stdout"
        }
      ]
    }
  ]
}