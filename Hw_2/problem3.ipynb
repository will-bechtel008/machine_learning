{
  "nbformat": 4,
  "nbformat_minor": 0,
  "metadata": {
    "colab": {
      "name": "problem3.ipynb",
      "provenance": []
    },
    "kernelspec": {
      "name": "python3",
      "display_name": "Python 3"
    }
  },
  "cells": [
    {
      "cell_type": "markdown",
      "metadata": {
        "id": "sTIUrdSX86bl",
        "colab_type": "text"
      },
      "source": [
        "Sources: https://github.com/schneider128k/machine_learning_course/blob/master/mnist_digits_data_set.ipynb\n",
        "\n",
        "https://en.wikipedia.org/wiki/MNIST_database"
      ]
    },
    {
      "cell_type": "markdown",
      "metadata": {
        "id": "OrP_WVL882wI",
        "colab_type": "text"
      },
      "source": [
        "Imports"
      ]
    },
    {
      "cell_type": "code",
      "metadata": {
        "id": "I9OEkezb2cRV",
        "colab_type": "code",
        "colab": {
          "base_uri": "https://localhost:8080/",
          "height": 51
        },
        "outputId": "b9ff917c-8c66-48ec-ddfb-211e659318c8"
      },
      "source": [
        "%tensorflow_version 2.x\n",
        "import tensorflow as tf\n",
        "%matplotlib inline\n",
        "import matplotlib.pyplot as plt\n",
        "\n",
        "(train_images, train_labels), (test_images, test_labels) = tf.keras.datasets.mnist.load_data()"
      ],
      "execution_count": 2,
      "outputs": [
        {
          "output_type": "stream",
          "text": [
            "Downloading data from https://storage.googleapis.com/tensorflow/tf-keras-datasets/mnist.npz\n",
            "11493376/11490434 [==============================] - 0s 0us/step\n"
          ],
          "name": "stdout"
        }
      ]
    },
    {
      "cell_type": "code",
      "metadata": {
        "id": "URuA2b254kof",
        "colab_type": "code",
        "colab": {
          "base_uri": "https://localhost:8080/",
          "height": 187
        },
        "outputId": "9f0e78f2-3eda-499a-a1e5-f8b9ef770e7f"
      },
      "source": [
        "averages = {0:0, 1:0, 2:0, 3:0, 4:0, 5:0, 6:0, 7:0, 8:0, 9:0}\n",
        "freq = [0] * 10\n",
        "\n",
        "for x in range(6000):\n",
        "    averages[train_labels[x]] += train_images[0].mean()\n",
        "    freq[train_labels[x]] += 1\n",
        "\n",
        "for x in range(10):\n",
        "    averages[x] /= freq[x]\n",
        "    print(\"Average MNIST digit of matrix \" + str(x) + \" = \" + str(averages[x]))"
      ],
      "execution_count": 3,
      "outputs": [
        {
          "output_type": "stream",
          "text": [
            "Average MNIST digit of matrix 0 = 35.10841836734701\n",
            "Average MNIST digit of matrix 1 = 35.10841836734716\n",
            "Average MNIST digit of matrix 2 = 35.10841836734698\n",
            "Average MNIST digit of matrix 3 = 35.10841836734704\n",
            "Average MNIST digit of matrix 4 = 35.10841836734707\n",
            "Average MNIST digit of matrix 5 = 35.1084183673468\n",
            "Average MNIST digit of matrix 6 = 35.10841836734704\n",
            "Average MNIST digit of matrix 7 = 35.10841836734713\n",
            "Average MNIST digit of matrix 8 = 35.10841836734691\n",
            "Average MNIST digit of matrix 9 = 35.10841836734702\n"
          ],
          "name": "stdout"
        }
      ]
    }
  ]
}