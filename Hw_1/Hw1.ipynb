{
  "nbformat": 4,
  "nbformat_minor": 0,
  "metadata": {
    "colab": {
      "name": "Hw1.ipynb",
      "provenance": [],
      "collapsed_sections": []
    },
    "kernelspec": {
      "name": "python3",
      "display_name": "Python 3"
    }
  },
  "cells": [
    {
      "cell_type": "markdown",
      "metadata": {
        "id": "WWQTDomt0QWm",
        "colab_type": "text"
      },
      "source": [
        "This function takes a list of matrices and multiplies the list"
      ]
    },
    {
      "cell_type": "markdown",
      "metadata": {
        "id": "DV6998GxKAzU",
        "colab_type": "text"
      },
      "source": [
        "$3x3 * 2x3$ is an example of an incompatible matrix. The inner two numbers must be the same for the pair to be compatible."
      ]
    },
    {
      "cell_type": "code",
      "metadata": {
        "id": "HAVB9k4V0Ds5",
        "colab_type": "code",
        "colab": {
          "base_uri": "https://localhost:8080/",
          "height": 187
        },
        "outputId": "70ff9760-4a9c-485f-b7e5-60163eef627c"
      },
      "source": [
        "import numpy as np\n",
        "\n",
        "def multiply_matrices(xs):\n",
        "    res = xs[0]\n",
        "\n",
        "    for m in xs[1:]:\n",
        "        if (res.shape[1] != m.shape[0]):\n",
        "            print(\"Error:\\n\", res, \"\\nand\\n\", m, \"\\nare incompatible matrices.\")\n",
        "            return\n",
        "\n",
        "        res = np.dot(res, m)\n",
        "\n",
        "    return res\n"
      ],
      "execution_count": 25,
      "outputs": [
        {
          "output_type": "stream",
          "text": [
            "Error:\n",
            " [[ 30  36  42]\n",
            " [ 66  81  96]\n",
            " [102 126 150]] \n",
            "and\n",
            " [[1 1 1]] \n",
            "are incompatible matrices.\n"
          ],
          "name": "stdout"
        },
        {
          "output_type": "execute_result",
          "data": {
            "text/plain": [
              "array([[ 30,  36,  42],\n",
              "       [ 66,  81,  96],\n",
              "       [102, 126, 150]])"
            ]
          },
          "metadata": {
            "tags": []
          },
          "execution_count": 25
        }
      ]
    },
    {
      "cell_type": "markdown",
      "metadata": {
        "id": "LsWddr-9UULt",
        "colab_type": "text"
      },
      "source": [
        "An example of compatible matrices"
      ]
    },
    {
      "cell_type": "code",
      "metadata": {
        "id": "69_bkp_yUP5k",
        "colab_type": "code",
        "colab": {
          "base_uri": "https://localhost:8080/",
          "height": 68
        },
        "outputId": "e017a407-513f-47fa-ea31-3e97b2c95e49"
      },
      "source": [
        "a = np.array([[1, 2, 3], # 3x3\n",
        "              [4, 5, 6],\n",
        "              [7, 8, 9]])\n",
        "b = np.array([[1, 2, 3], # 3x3\n",
        "              [4, 5, 6],\n",
        "              [7, 8, 9]])\n",
        "\n",
        "xs = [a,b]\n",
        "multiply_matrices(xs)"
      ],
      "execution_count": 26,
      "outputs": [
        {
          "output_type": "execute_result",
          "data": {
            "text/plain": [
              "array([[ 30,  36,  42],\n",
              "       [ 66,  81,  96],\n",
              "       [102, 126, 150]])"
            ]
          },
          "metadata": {
            "tags": []
          },
          "execution_count": 26
        }
      ]
    },
    {
      "cell_type": "markdown",
      "metadata": {
        "id": "kFkHTa1KUZ_K",
        "colab_type": "text"
      },
      "source": [
        "An example of incompatible matrices"
      ]
    },
    {
      "cell_type": "code",
      "metadata": {
        "id": "cfhqqB9hUNA0",
        "colab_type": "code",
        "colab": {
          "base_uri": "https://localhost:8080/",
          "height": 136
        },
        "outputId": "718b4fc2-8a9d-4889-b255-46d43e839d02"
      },
      "source": [
        "a = np.array([[1, 2, 3], # 3x3\n",
        "              [4, 5, 6],\n",
        "              [7, 8, 9]])\n",
        "b = np.array([[1, 2, 3], # 3x3\n",
        "              [4, 5, 6],\n",
        "              [7, 8, 9]])\n",
        "c = np.array([[1, 1, 1]]) #1x3\n",
        "\n",
        "xs = [a,b,c]\n",
        "multiply_matrices(xs)"
      ],
      "execution_count": 27,
      "outputs": [
        {
          "output_type": "stream",
          "text": [
            "Error:\n",
            " [[ 30  36  42]\n",
            " [ 66  81  96]\n",
            " [102 126 150]] \n",
            "and\n",
            " [[1 1 1]] \n",
            "are incompatible matrices.\n"
          ],
          "name": "stdout"
        }
      ]
    }
  ]
}